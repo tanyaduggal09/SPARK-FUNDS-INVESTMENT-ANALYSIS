{
 "cells": [
  {
   "cell_type": "code",
   "execution_count": 1,
   "metadata": {},
   "outputs": [],
   "source": [
    "import numpy as np\n",
    "import pandas as pd\n",
    "import matplotlib.pyplot as plt\n",
    "import seaborn as sb"
   ]
  },
  {
   "cell_type": "code",
   "execution_count": 2,
   "metadata": {},
   "outputs": [
    {
     "data": {
      "text/html": [
       "<div>\n",
       "<style scoped>\n",
       "    .dataframe tbody tr th:only-of-type {\n",
       "        vertical-align: middle;\n",
       "    }\n",
       "\n",
       "    .dataframe tbody tr th {\n",
       "        vertical-align: top;\n",
       "    }\n",
       "\n",
       "    .dataframe thead th {\n",
       "        text-align: right;\n",
       "    }\n",
       "</style>\n",
       "<table border=\"1\" class=\"dataframe\">\n",
       "  <thead>\n",
       "    <tr style=\"text-align: right;\">\n",
       "      <th></th>\n",
       "      <th>company_permalink</th>\n",
       "      <th>funding_round_type</th>\n",
       "      <th>raised_amount_usd</th>\n",
       "      <th>name</th>\n",
       "      <th>category_list</th>\n",
       "      <th>country_code</th>\n",
       "    </tr>\n",
       "  </thead>\n",
       "  <tbody>\n",
       "    <tr>\n",
       "      <th>0</th>\n",
       "      <td>/organization/-fame</td>\n",
       "      <td>venture</td>\n",
       "      <td>10000000.0</td>\n",
       "      <td>#fame</td>\n",
       "      <td>Media</td>\n",
       "      <td>IND</td>\n",
       "    </tr>\n",
       "    <tr>\n",
       "      <th>1</th>\n",
       "      <td>/organization/-qounter</td>\n",
       "      <td>seed</td>\n",
       "      <td>700000.0</td>\n",
       "      <td>:Qounter</td>\n",
       "      <td>Application Platforms|Real Time|Social Network...</td>\n",
       "      <td>USA</td>\n",
       "    </tr>\n",
       "    <tr>\n",
       "      <th>2</th>\n",
       "      <td>/organization/0-6-com</td>\n",
       "      <td>venture</td>\n",
       "      <td>2000000.0</td>\n",
       "      <td>0-6.com</td>\n",
       "      <td>Curated Web</td>\n",
       "      <td>CHN</td>\n",
       "    </tr>\n",
       "    <tr>\n",
       "      <th>3</th>\n",
       "      <td>/organization/01games-technology</td>\n",
       "      <td>undisclosed</td>\n",
       "      <td>41250.0</td>\n",
       "      <td>01Games Technology</td>\n",
       "      <td>Games</td>\n",
       "      <td>HKG</td>\n",
       "    </tr>\n",
       "    <tr>\n",
       "      <th>4</th>\n",
       "      <td>/organization/0ndine-biomedical-inc</td>\n",
       "      <td>seed</td>\n",
       "      <td>43360.0</td>\n",
       "      <td>Ondine Biomedical Inc.</td>\n",
       "      <td>Biotechnology</td>\n",
       "      <td>CAN</td>\n",
       "    </tr>\n",
       "  </tbody>\n",
       "</table>\n",
       "</div>"
      ],
      "text/plain": [
       "                     company_permalink funding_round_type  raised_amount_usd  \\\n",
       "0                  /organization/-fame            venture         10000000.0   \n",
       "1               /organization/-qounter               seed           700000.0   \n",
       "2                /organization/0-6-com            venture          2000000.0   \n",
       "3     /organization/01games-technology        undisclosed            41250.0   \n",
       "4  /organization/0ndine-biomedical-inc               seed            43360.0   \n",
       "\n",
       "                     name                                      category_list  \\\n",
       "0                   #fame                                              Media   \n",
       "1                :Qounter  Application Platforms|Real Time|Social Network...   \n",
       "2                 0-6.com                                        Curated Web   \n",
       "3      01Games Technology                                              Games   \n",
       "4  Ondine Biomedical Inc.                                      Biotechnology   \n",
       "\n",
       "  country_code  \n",
       "0          IND  \n",
       "1          USA  \n",
       "2          CHN  \n",
       "3          HKG  \n",
       "4          CAN  "
      ]
     },
     "execution_count": 2,
     "metadata": {},
     "output_type": "execute_result"
    }
   ],
   "source": [
    "master_frame=pd.read_csv(\"clean_data.csv\")\n",
    "master_frame.head()"
   ]
  },
  {
   "cell_type": "code",
   "execution_count": 3,
   "metadata": {},
   "outputs": [
    {
     "name": "stdout",
     "output_type": "stream",
     "text": [
      "<class 'pandas.core.frame.DataFrame'>\n",
      "RangeIndex: 88528 entries, 0 to 88527\n",
      "Data columns (total 6 columns):\n",
      " #   Column              Non-Null Count  Dtype  \n",
      "---  ------              --------------  -----  \n",
      " 0   company_permalink   88528 non-null  object \n",
      " 1   funding_round_type  88528 non-null  object \n",
      " 2   raised_amount_usd   88528 non-null  float64\n",
      " 3   name                88528 non-null  object \n",
      " 4   category_list       88528 non-null  object \n",
      " 5   country_code        88528 non-null  object \n",
      "dtypes: float64(1), object(5)\n",
      "memory usage: 4.1+ MB\n"
     ]
    }
   ],
   "source": [
    "master_frame.info()"
   ]
  },
  {
   "cell_type": "markdown",
   "metadata": {},
   "source": [
    "# CHECKPOINT 2 : Funding Type Analysis"
   ]
  },
  {
   "cell_type": "code",
   "execution_count": 4,
   "metadata": {
    "scrolled": true
   },
   "outputs": [
    {
     "data": {
      "text/plain": [
       "array(['venture', 'seed', 'undisclosed', 'convertible_note',\n",
       "       'private_equity', 'debt_financing', 'angel', 'grant',\n",
       "       'equity_crowdfunding', 'post_ipo_equity', 'post_ipo_debt',\n",
       "       'product_crowdfunding', 'secondary_market',\n",
       "       'non_equity_assistance'], dtype=object)"
      ]
     },
     "execution_count": 4,
     "metadata": {},
     "output_type": "execute_result"
    }
   ],
   "source": [
    "master_frame[\"funding_round_type\"].unique()"
   ]
  },
  {
   "cell_type": "markdown",
   "metadata": {},
   "source": [
    "Filtering the Data"
   ]
  },
  {
   "cell_type": "code",
   "execution_count": 5,
   "metadata": {},
   "outputs": [],
   "source": [
    "l=[\"seed\",\"venture\",\"angel\",\"private_equity\"]\n",
    "master_frame=master_frame.loc[(master_frame[\"funding_round_type\"].isin(l))]"
   ]
  },
  {
   "cell_type": "code",
   "execution_count": 6,
   "metadata": {},
   "outputs": [
    {
     "data": {
      "text/html": [
       "<div>\n",
       "<style scoped>\n",
       "    .dataframe tbody tr th:only-of-type {\n",
       "        vertical-align: middle;\n",
       "    }\n",
       "\n",
       "    .dataframe tbody tr th {\n",
       "        vertical-align: top;\n",
       "    }\n",
       "\n",
       "    .dataframe thead th {\n",
       "        text-align: right;\n",
       "    }\n",
       "</style>\n",
       "<table border=\"1\" class=\"dataframe\">\n",
       "  <thead>\n",
       "    <tr style=\"text-align: right;\">\n",
       "      <th></th>\n",
       "      <th>company_permalink</th>\n",
       "      <th>funding_round_type</th>\n",
       "      <th>raised_amount_usd</th>\n",
       "      <th>name</th>\n",
       "      <th>category_list</th>\n",
       "      <th>country_code</th>\n",
       "    </tr>\n",
       "  </thead>\n",
       "  <tbody>\n",
       "    <tr>\n",
       "      <th>0</th>\n",
       "      <td>/organization/-fame</td>\n",
       "      <td>venture</td>\n",
       "      <td>10000000.0</td>\n",
       "      <td>#fame</td>\n",
       "      <td>Media</td>\n",
       "      <td>IND</td>\n",
       "    </tr>\n",
       "    <tr>\n",
       "      <th>1</th>\n",
       "      <td>/organization/-qounter</td>\n",
       "      <td>seed</td>\n",
       "      <td>700000.0</td>\n",
       "      <td>:Qounter</td>\n",
       "      <td>Application Platforms|Real Time|Social Network...</td>\n",
       "      <td>USA</td>\n",
       "    </tr>\n",
       "    <tr>\n",
       "      <th>2</th>\n",
       "      <td>/organization/0-6-com</td>\n",
       "      <td>venture</td>\n",
       "      <td>2000000.0</td>\n",
       "      <td>0-6.com</td>\n",
       "      <td>Curated Web</td>\n",
       "      <td>CHN</td>\n",
       "    </tr>\n",
       "    <tr>\n",
       "      <th>4</th>\n",
       "      <td>/organization/0ndine-biomedical-inc</td>\n",
       "      <td>seed</td>\n",
       "      <td>43360.0</td>\n",
       "      <td>Ondine Biomedical Inc.</td>\n",
       "      <td>Biotechnology</td>\n",
       "      <td>CAN</td>\n",
       "    </tr>\n",
       "    <tr>\n",
       "      <th>5</th>\n",
       "      <td>/organization/0ndine-biomedical-inc</td>\n",
       "      <td>venture</td>\n",
       "      <td>719491.0</td>\n",
       "      <td>Ondine Biomedical Inc.</td>\n",
       "      <td>Biotechnology</td>\n",
       "      <td>CAN</td>\n",
       "    </tr>\n",
       "  </tbody>\n",
       "</table>\n",
       "</div>"
      ],
      "text/plain": [
       "                     company_permalink funding_round_type  raised_amount_usd  \\\n",
       "0                  /organization/-fame            venture         10000000.0   \n",
       "1               /organization/-qounter               seed           700000.0   \n",
       "2                /organization/0-6-com            venture          2000000.0   \n",
       "4  /organization/0ndine-biomedical-inc               seed            43360.0   \n",
       "5  /organization/0ndine-biomedical-inc            venture           719491.0   \n",
       "\n",
       "                     name                                      category_list  \\\n",
       "0                   #fame                                              Media   \n",
       "1                :Qounter  Application Platforms|Real Time|Social Network...   \n",
       "2                 0-6.com                                        Curated Web   \n",
       "4  Ondine Biomedical Inc.                                      Biotechnology   \n",
       "5  Ondine Biomedical Inc.                                      Biotechnology   \n",
       "\n",
       "  country_code  \n",
       "0          IND  \n",
       "1          USA  \n",
       "2          CHN  \n",
       "4          CAN  \n",
       "5          CAN  "
      ]
     },
     "execution_count": 6,
     "metadata": {},
     "output_type": "execute_result"
    }
   ],
   "source": [
    "master_frame.head()"
   ]
  },
  {
   "cell_type": "code",
   "execution_count": 7,
   "metadata": {},
   "outputs": [
    {
     "data": {
      "text/plain": [
       "array(['venture', 'seed', 'private_equity', 'angel'], dtype=object)"
      ]
     },
     "execution_count": 7,
     "metadata": {},
     "output_type": "execute_result"
    }
   ],
   "source": [
    "master_frame[\"funding_round_type\"].unique()"
   ]
  },
  {
   "cell_type": "markdown",
   "metadata": {},
   "source": [
    "# Average Funding Amount"
   ]
  },
  {
   "cell_type": "code",
   "execution_count": 8,
   "metadata": {},
   "outputs": [],
   "source": [
    "a=round(master_frame.groupby(by=\"funding_round_type\")[\"raised_amount_usd\"].mean().sort_values(ascending=False),2)"
   ]
  },
  {
   "cell_type": "code",
   "execution_count": 9,
   "metadata": {},
   "outputs": [
    {
     "data": {
      "text/plain": [
       "funding_round_type\n",
       "private_equity    73938486.28\n",
       "venture           11724222.69\n",
       "angel               971573.89\n",
       "seed                747827.95\n",
       "Name: raised_amount_usd, dtype: float64"
      ]
     },
     "execution_count": 9,
     "metadata": {},
     "output_type": "execute_result"
    }
   ],
   "source": [
    "a"
   ]
  },
  {
   "cell_type": "code",
   "execution_count": 10,
   "metadata": {},
   "outputs": [
    {
     "data": {
      "text/html": [
       "<div>\n",
       "<style scoped>\n",
       "    .dataframe tbody tr th:only-of-type {\n",
       "        vertical-align: middle;\n",
       "    }\n",
       "\n",
       "    .dataframe tbody tr th {\n",
       "        vertical-align: top;\n",
       "    }\n",
       "\n",
       "    .dataframe thead th {\n",
       "        text-align: right;\n",
       "    }\n",
       "</style>\n",
       "<table border=\"1\" class=\"dataframe\">\n",
       "  <thead>\n",
       "    <tr style=\"text-align: right;\">\n",
       "      <th></th>\n",
       "      <th>raised_amount_usd</th>\n",
       "    </tr>\n",
       "    <tr>\n",
       "      <th>funding_round_type</th>\n",
       "      <th></th>\n",
       "    </tr>\n",
       "  </thead>\n",
       "  <tbody>\n",
       "    <tr>\n",
       "      <th>private_equity</th>\n",
       "      <td>73938486.28</td>\n",
       "    </tr>\n",
       "    <tr>\n",
       "      <th>venture</th>\n",
       "      <td>11724222.69</td>\n",
       "    </tr>\n",
       "    <tr>\n",
       "      <th>angel</th>\n",
       "      <td>971573.89</td>\n",
       "    </tr>\n",
       "    <tr>\n",
       "      <th>seed</th>\n",
       "      <td>747827.95</td>\n",
       "    </tr>\n",
       "  </tbody>\n",
       "</table>\n",
       "</div>"
      ],
      "text/plain": [
       "                    raised_amount_usd\n",
       "funding_round_type                   \n",
       "private_equity            73938486.28\n",
       "venture                   11724222.69\n",
       "angel                       971573.89\n",
       "seed                        747827.95"
      ]
     },
     "execution_count": 10,
     "metadata": {},
     "output_type": "execute_result"
    }
   ],
   "source": [
    "a1=pd.DataFrame(a)\n",
    "a1"
   ]
  },
  {
   "cell_type": "code",
   "execution_count": 11,
   "metadata": {},
   "outputs": [],
   "source": [
    "a2=a1[(a1[\"raised_amount_usd\"]>=5000000) & (a1[\"raised_amount_usd\"]<=15000000)]"
   ]
  },
  {
   "cell_type": "code",
   "execution_count": 12,
   "metadata": {},
   "outputs": [
    {
     "data": {
      "text/plain": [
       "'venture'"
      ]
     },
     "execution_count": 12,
     "metadata": {},
     "output_type": "execute_result"
    }
   ],
   "source": [
    "a2.index[0]"
   ]
  },
  {
   "cell_type": "markdown",
   "metadata": {},
   "source": [
    "# Checkpoint 3: Country Analysis"
   ]
  },
  {
   "cell_type": "code",
   "execution_count": 13,
   "metadata": {},
   "outputs": [],
   "source": [
    "english_countries=pd.read_csv('english_countries.csv')"
   ]
  },
  {
   "cell_type": "code",
   "execution_count": 14,
   "metadata": {},
   "outputs": [
    {
     "data": {
      "text/html": [
       "<div>\n",
       "<style scoped>\n",
       "    .dataframe tbody tr th:only-of-type {\n",
       "        vertical-align: middle;\n",
       "    }\n",
       "\n",
       "    .dataframe tbody tr th {\n",
       "        vertical-align: top;\n",
       "    }\n",
       "\n",
       "    .dataframe thead th {\n",
       "        text-align: right;\n",
       "    }\n",
       "</style>\n",
       "<table border=\"1\" class=\"dataframe\">\n",
       "  <thead>\n",
       "    <tr style=\"text-align: right;\">\n",
       "      <th></th>\n",
       "      <th>country_code</th>\n",
       "      <th>Official_lang</th>\n",
       "    </tr>\n",
       "  </thead>\n",
       "  <tbody>\n",
       "    <tr>\n",
       "      <th>0</th>\n",
       "      <td>AUS</td>\n",
       "      <td>Yes</td>\n",
       "    </tr>\n",
       "    <tr>\n",
       "      <th>1</th>\n",
       "      <td>NZL</td>\n",
       "      <td>Yes</td>\n",
       "    </tr>\n",
       "    <tr>\n",
       "      <th>2</th>\n",
       "      <td>GBR</td>\n",
       "      <td>Yes</td>\n",
       "    </tr>\n",
       "    <tr>\n",
       "      <th>3</th>\n",
       "      <td>USA</td>\n",
       "      <td>Yes</td>\n",
       "    </tr>\n",
       "    <tr>\n",
       "      <th>4</th>\n",
       "      <td>ATG</td>\n",
       "      <td>Yes</td>\n",
       "    </tr>\n",
       "  </tbody>\n",
       "</table>\n",
       "</div>"
      ],
      "text/plain": [
       "  country_code Official_lang\n",
       "0          AUS           Yes\n",
       "1          NZL           Yes\n",
       "2          GBR           Yes\n",
       "3          USA           Yes\n",
       "4          ATG           Yes"
      ]
     },
     "execution_count": 14,
     "metadata": {},
     "output_type": "execute_result"
    }
   ],
   "source": [
    "english_countries.head()"
   ]
  },
  {
   "cell_type": "markdown",
   "metadata": {},
   "source": [
    "Filter the Funding round type to Venture only"
   ]
  },
  {
   "cell_type": "code",
   "execution_count": 15,
   "metadata": {},
   "outputs": [],
   "source": [
    "master_frame=master_frame.loc[master_frame[\"funding_round_type\"]==\"venture\"]"
   ]
  },
  {
   "cell_type": "code",
   "execution_count": 16,
   "metadata": {
    "scrolled": false
   },
   "outputs": [
    {
     "data": {
      "text/html": [
       "<div>\n",
       "<style scoped>\n",
       "    .dataframe tbody tr th:only-of-type {\n",
       "        vertical-align: middle;\n",
       "    }\n",
       "\n",
       "    .dataframe tbody tr th {\n",
       "        vertical-align: top;\n",
       "    }\n",
       "\n",
       "    .dataframe thead th {\n",
       "        text-align: right;\n",
       "    }\n",
       "</style>\n",
       "<table border=\"1\" class=\"dataframe\">\n",
       "  <thead>\n",
       "    <tr style=\"text-align: right;\">\n",
       "      <th></th>\n",
       "      <th>company_permalink</th>\n",
       "      <th>funding_round_type</th>\n",
       "      <th>raised_amount_usd</th>\n",
       "      <th>name</th>\n",
       "      <th>category_list</th>\n",
       "      <th>country_code</th>\n",
       "    </tr>\n",
       "  </thead>\n",
       "  <tbody>\n",
       "    <tr>\n",
       "      <th>0</th>\n",
       "      <td>/organization/-fame</td>\n",
       "      <td>venture</td>\n",
       "      <td>10000000.0</td>\n",
       "      <td>#fame</td>\n",
       "      <td>Media</td>\n",
       "      <td>IND</td>\n",
       "    </tr>\n",
       "    <tr>\n",
       "      <th>2</th>\n",
       "      <td>/organization/0-6-com</td>\n",
       "      <td>venture</td>\n",
       "      <td>2000000.0</td>\n",
       "      <td>0-6.com</td>\n",
       "      <td>Curated Web</td>\n",
       "      <td>CHN</td>\n",
       "    </tr>\n",
       "    <tr>\n",
       "      <th>5</th>\n",
       "      <td>/organization/0ndine-biomedical-inc</td>\n",
       "      <td>venture</td>\n",
       "      <td>719491.0</td>\n",
       "      <td>Ondine Biomedical Inc.</td>\n",
       "      <td>Biotechnology</td>\n",
       "      <td>CAN</td>\n",
       "    </tr>\n",
       "    <tr>\n",
       "      <th>7</th>\n",
       "      <td>/organization/0xdata</td>\n",
       "      <td>venture</td>\n",
       "      <td>20000000.0</td>\n",
       "      <td>H2O.ai</td>\n",
       "      <td>Analytics</td>\n",
       "      <td>USA</td>\n",
       "    </tr>\n",
       "    <tr>\n",
       "      <th>8</th>\n",
       "      <td>/organization/0xdata</td>\n",
       "      <td>venture</td>\n",
       "      <td>1700000.0</td>\n",
       "      <td>H2O.ai</td>\n",
       "      <td>Analytics</td>\n",
       "      <td>USA</td>\n",
       "    </tr>\n",
       "    <tr>\n",
       "      <th>...</th>\n",
       "      <td>...</td>\n",
       "      <td>...</td>\n",
       "      <td>...</td>\n",
       "      <td>...</td>\n",
       "      <td>...</td>\n",
       "      <td>...</td>\n",
       "    </tr>\n",
       "    <tr>\n",
       "      <th>88512</th>\n",
       "      <td>/organization/zyraz-technology</td>\n",
       "      <td>venture</td>\n",
       "      <td>7991547.0</td>\n",
       "      <td>Zyraz Technology</td>\n",
       "      <td>Biotechnology</td>\n",
       "      <td>MYS</td>\n",
       "    </tr>\n",
       "    <tr>\n",
       "      <th>88515</th>\n",
       "      <td>/organization/zyrra</td>\n",
       "      <td>venture</td>\n",
       "      <td>140500.0</td>\n",
       "      <td>Zyrra</td>\n",
       "      <td>E-Commerce</td>\n",
       "      <td>USA</td>\n",
       "    </tr>\n",
       "    <tr>\n",
       "      <th>88517</th>\n",
       "      <td>/organization/zystor</td>\n",
       "      <td>venture</td>\n",
       "      <td>8500000.0</td>\n",
       "      <td>Zystor</td>\n",
       "      <td>Biotechnology</td>\n",
       "      <td>USA</td>\n",
       "    </tr>\n",
       "    <tr>\n",
       "      <th>88518</th>\n",
       "      <td>/organization/zytoprotec</td>\n",
       "      <td>venture</td>\n",
       "      <td>2686600.0</td>\n",
       "      <td>Zytoprotec</td>\n",
       "      <td>Biotechnology</td>\n",
       "      <td>AUT</td>\n",
       "    </tr>\n",
       "    <tr>\n",
       "      <th>88522</th>\n",
       "      <td>/organization/zznode-science-and-technology-co...</td>\n",
       "      <td>venture</td>\n",
       "      <td>1587301.0</td>\n",
       "      <td>ZZNode Science and Technology</td>\n",
       "      <td>Enterprise Software</td>\n",
       "      <td>CHN</td>\n",
       "    </tr>\n",
       "  </tbody>\n",
       "</table>\n",
       "<p>47809 rows × 6 columns</p>\n",
       "</div>"
      ],
      "text/plain": [
       "                                       company_permalink funding_round_type  \\\n",
       "0                                    /organization/-fame            venture   \n",
       "2                                  /organization/0-6-com            venture   \n",
       "5                    /organization/0ndine-biomedical-inc            venture   \n",
       "7                                   /organization/0xdata            venture   \n",
       "8                                   /organization/0xdata            venture   \n",
       "...                                                  ...                ...   \n",
       "88512                     /organization/zyraz-technology            venture   \n",
       "88515                                /organization/zyrra            venture   \n",
       "88517                               /organization/zystor            venture   \n",
       "88518                           /organization/zytoprotec            venture   \n",
       "88522  /organization/zznode-science-and-technology-co...            venture   \n",
       "\n",
       "       raised_amount_usd                           name        category_list  \\\n",
       "0             10000000.0                          #fame                Media   \n",
       "2              2000000.0                        0-6.com          Curated Web   \n",
       "5               719491.0         Ondine Biomedical Inc.        Biotechnology   \n",
       "7             20000000.0                         H2O.ai            Analytics   \n",
       "8              1700000.0                         H2O.ai            Analytics   \n",
       "...                  ...                            ...                  ...   \n",
       "88512          7991547.0               Zyraz Technology        Biotechnology   \n",
       "88515           140500.0                          Zyrra           E-Commerce   \n",
       "88517          8500000.0                         Zystor        Biotechnology   \n",
       "88518          2686600.0                     Zytoprotec        Biotechnology   \n",
       "88522          1587301.0  ZZNode Science and Technology  Enterprise Software   \n",
       "\n",
       "      country_code  \n",
       "0              IND  \n",
       "2              CHN  \n",
       "5              CAN  \n",
       "7              USA  \n",
       "8              USA  \n",
       "...            ...  \n",
       "88512          MYS  \n",
       "88515          USA  \n",
       "88517          USA  \n",
       "88518          AUT  \n",
       "88522          CHN  \n",
       "\n",
       "[47809 rows x 6 columns]"
      ]
     },
     "execution_count": 16,
     "metadata": {},
     "output_type": "execute_result"
    }
   ],
   "source": [
    "master_frame"
   ]
  },
  {
   "cell_type": "markdown",
   "metadata": {},
   "source": [
    "Merging the Data"
   ]
  },
  {
   "cell_type": "code",
   "execution_count": 17,
   "metadata": {},
   "outputs": [],
   "source": [
    "top=pd.merge(master_frame,english_countries,on=\"country_code\")"
   ]
  },
  {
   "cell_type": "code",
   "execution_count": 18,
   "metadata": {},
   "outputs": [],
   "source": [
    "top1=top.groupby(by=\"country_code\")[\"raised_amount_usd\"].sum().sort_values(ascending=False)"
   ]
  },
  {
   "cell_type": "code",
   "execution_count": 19,
   "metadata": {},
   "outputs": [],
   "source": [
    "top9=pd.DataFrame(top1)"
   ]
  },
  {
   "cell_type": "markdown",
   "metadata": {},
   "source": [
    "# Top 9 Countries "
   ]
  },
  {
   "cell_type": "code",
   "execution_count": 20,
   "metadata": {},
   "outputs": [
    {
     "data": {
      "text/html": [
       "<div>\n",
       "<style scoped>\n",
       "    .dataframe tbody tr th:only-of-type {\n",
       "        vertical-align: middle;\n",
       "    }\n",
       "\n",
       "    .dataframe tbody tr th {\n",
       "        vertical-align: top;\n",
       "    }\n",
       "\n",
       "    .dataframe thead th {\n",
       "        text-align: right;\n",
       "    }\n",
       "</style>\n",
       "<table border=\"1\" class=\"dataframe\">\n",
       "  <thead>\n",
       "    <tr style=\"text-align: right;\">\n",
       "      <th></th>\n",
       "      <th>raised_amount_usd</th>\n",
       "    </tr>\n",
       "    <tr>\n",
       "      <th>country_code</th>\n",
       "      <th></th>\n",
       "    </tr>\n",
       "  </thead>\n",
       "  <tbody>\n",
       "    <tr>\n",
       "      <th>USA</th>\n",
       "      <td>4.200680e+11</td>\n",
       "    </tr>\n",
       "    <tr>\n",
       "      <th>GBR</th>\n",
       "      <td>2.007281e+10</td>\n",
       "    </tr>\n",
       "    <tr>\n",
       "      <th>IND</th>\n",
       "      <td>1.426151e+10</td>\n",
       "    </tr>\n",
       "    <tr>\n",
       "      <th>CAN</th>\n",
       "      <td>9.482218e+09</td>\n",
       "    </tr>\n",
       "    <tr>\n",
       "      <th>SGP</th>\n",
       "      <td>2.793918e+09</td>\n",
       "    </tr>\n",
       "    <tr>\n",
       "      <th>IRL</th>\n",
       "      <td>1.669286e+09</td>\n",
       "    </tr>\n",
       "    <tr>\n",
       "      <th>AUS</th>\n",
       "      <td>1.319029e+09</td>\n",
       "    </tr>\n",
       "    <tr>\n",
       "      <th>NZL</th>\n",
       "      <td>4.483164e+08</td>\n",
       "    </tr>\n",
       "    <tr>\n",
       "      <th>ZAF</th>\n",
       "      <td>2.337131e+08</td>\n",
       "    </tr>\n",
       "  </tbody>\n",
       "</table>\n",
       "</div>"
      ],
      "text/plain": [
       "              raised_amount_usd\n",
       "country_code                   \n",
       "USA                4.200680e+11\n",
       "GBR                2.007281e+10\n",
       "IND                1.426151e+10\n",
       "CAN                9.482218e+09\n",
       "SGP                2.793918e+09\n",
       "IRL                1.669286e+09\n",
       "AUS                1.319029e+09\n",
       "NZL                4.483164e+08\n",
       "ZAF                2.337131e+08"
      ]
     },
     "execution_count": 20,
     "metadata": {},
     "output_type": "execute_result"
    }
   ],
   "source": [
    "top9.head(9)"
   ]
  },
  {
   "cell_type": "code",
   "execution_count": 21,
   "metadata": {
    "scrolled": true
   },
   "outputs": [
    {
     "data": {
      "text/html": [
       "<div>\n",
       "<style scoped>\n",
       "    .dataframe tbody tr th:only-of-type {\n",
       "        vertical-align: middle;\n",
       "    }\n",
       "\n",
       "    .dataframe tbody tr th {\n",
       "        vertical-align: top;\n",
       "    }\n",
       "\n",
       "    .dataframe thead th {\n",
       "        text-align: right;\n",
       "    }\n",
       "</style>\n",
       "<table border=\"1\" class=\"dataframe\">\n",
       "  <thead>\n",
       "    <tr style=\"text-align: right;\">\n",
       "      <th></th>\n",
       "      <th>raised_amount_usd</th>\n",
       "    </tr>\n",
       "    <tr>\n",
       "      <th>country_code</th>\n",
       "      <th></th>\n",
       "    </tr>\n",
       "  </thead>\n",
       "  <tbody>\n",
       "    <tr>\n",
       "      <th>USA</th>\n",
       "      <td>4.200680e+11</td>\n",
       "    </tr>\n",
       "    <tr>\n",
       "      <th>GBR</th>\n",
       "      <td>2.007281e+10</td>\n",
       "    </tr>\n",
       "    <tr>\n",
       "      <th>IND</th>\n",
       "      <td>1.426151e+10</td>\n",
       "    </tr>\n",
       "  </tbody>\n",
       "</table>\n",
       "</div>"
      ],
      "text/plain": [
       "              raised_amount_usd\n",
       "country_code                   \n",
       "USA                4.200680e+11\n",
       "GBR                2.007281e+10\n",
       "IND                1.426151e+10"
      ]
     },
     "execution_count": 21,
     "metadata": {},
     "output_type": "execute_result"
    }
   ],
   "source": [
    "top9.head(3)"
   ]
  },
  {
   "cell_type": "markdown",
   "metadata": {},
   "source": [
    "Filtering country_code to Top 3 countries"
   ]
  },
  {
   "cell_type": "code",
   "execution_count": 23,
   "metadata": {},
   "outputs": [],
   "source": [
    "l=['USA','GBR','IND']\n",
    "top3=top.loc[(top['country_code'].isin(l))]"
   ]
  },
  {
   "cell_type": "code",
   "execution_count": 24,
   "metadata": {},
   "outputs": [
    {
     "data": {
      "text/plain": [
       "array(['IND', 'USA', 'GBR'], dtype=object)"
      ]
     },
     "execution_count": 24,
     "metadata": {},
     "output_type": "execute_result"
    }
   ],
   "source": [
    "top3[\"country_code\"].unique()"
   ]
  },
  {
   "cell_type": "markdown",
   "metadata": {},
   "source": [
    "# Checkpoint 4: Sector Analysis 1"
   ]
  },
  {
   "cell_type": "code",
   "execution_count": 25,
   "metadata": {},
   "outputs": [],
   "source": [
    "mapping=pd.read_csv(\"mapping.csv\")"
   ]
  },
  {
   "cell_type": "code",
   "execution_count": 26,
   "metadata": {},
   "outputs": [
    {
     "name": "stdout",
     "output_type": "stream",
     "text": [
      "<class 'pandas.core.frame.DataFrame'>\n",
      "RangeIndex: 688 entries, 0 to 687\n",
      "Data columns (total 10 columns):\n",
      " #   Column                                   Non-Null Count  Dtype \n",
      "---  ------                                   --------------  ----- \n",
      " 0   category_list                            687 non-null    object\n",
      " 1   Automotive & Sports                      688 non-null    int64 \n",
      " 2   Blanks                                   688 non-null    int64 \n",
      " 3   Cleantech / Semiconductors               688 non-null    int64 \n",
      " 4   Entertainment                            688 non-null    int64 \n",
      " 5   Health                                   688 non-null    int64 \n",
      " 6   Manufacturing                            688 non-null    int64 \n",
      " 7   News, Search and Messaging               688 non-null    int64 \n",
      " 8   Others                                   688 non-null    int64 \n",
      " 9   Social, Finance, Analytics, Advertising  688 non-null    int64 \n",
      "dtypes: int64(9), object(1)\n",
      "memory usage: 53.9+ KB\n"
     ]
    }
   ],
   "source": [
    "mapping.info()"
   ]
  },
  {
   "cell_type": "code",
   "execution_count": 27,
   "metadata": {},
   "outputs": [
    {
     "data": {
      "text/html": [
       "<div>\n",
       "<style scoped>\n",
       "    .dataframe tbody tr th:only-of-type {\n",
       "        vertical-align: middle;\n",
       "    }\n",
       "\n",
       "    .dataframe tbody tr th {\n",
       "        vertical-align: top;\n",
       "    }\n",
       "\n",
       "    .dataframe thead th {\n",
       "        text-align: right;\n",
       "    }\n",
       "</style>\n",
       "<table border=\"1\" class=\"dataframe\">\n",
       "  <thead>\n",
       "    <tr style=\"text-align: right;\">\n",
       "      <th></th>\n",
       "      <th>category_list</th>\n",
       "      <th>Automotive &amp; Sports</th>\n",
       "      <th>Blanks</th>\n",
       "      <th>Cleantech / Semiconductors</th>\n",
       "      <th>Entertainment</th>\n",
       "      <th>Health</th>\n",
       "      <th>Manufacturing</th>\n",
       "      <th>News, Search and Messaging</th>\n",
       "      <th>Others</th>\n",
       "      <th>Social, Finance, Analytics, Advertising</th>\n",
       "    </tr>\n",
       "  </thead>\n",
       "  <tbody>\n",
       "    <tr>\n",
       "      <th>0</th>\n",
       "      <td>NaN</td>\n",
       "      <td>0</td>\n",
       "      <td>1</td>\n",
       "      <td>0</td>\n",
       "      <td>0</td>\n",
       "      <td>0</td>\n",
       "      <td>0</td>\n",
       "      <td>0</td>\n",
       "      <td>0</td>\n",
       "      <td>0</td>\n",
       "    </tr>\n",
       "    <tr>\n",
       "      <th>1</th>\n",
       "      <td>3D</td>\n",
       "      <td>0</td>\n",
       "      <td>0</td>\n",
       "      <td>0</td>\n",
       "      <td>0</td>\n",
       "      <td>0</td>\n",
       "      <td>1</td>\n",
       "      <td>0</td>\n",
       "      <td>0</td>\n",
       "      <td>0</td>\n",
       "    </tr>\n",
       "    <tr>\n",
       "      <th>2</th>\n",
       "      <td>3D Printing</td>\n",
       "      <td>0</td>\n",
       "      <td>0</td>\n",
       "      <td>0</td>\n",
       "      <td>0</td>\n",
       "      <td>0</td>\n",
       "      <td>1</td>\n",
       "      <td>0</td>\n",
       "      <td>0</td>\n",
       "      <td>0</td>\n",
       "    </tr>\n",
       "    <tr>\n",
       "      <th>3</th>\n",
       "      <td>3D Technology</td>\n",
       "      <td>0</td>\n",
       "      <td>0</td>\n",
       "      <td>0</td>\n",
       "      <td>0</td>\n",
       "      <td>0</td>\n",
       "      <td>1</td>\n",
       "      <td>0</td>\n",
       "      <td>0</td>\n",
       "      <td>0</td>\n",
       "    </tr>\n",
       "    <tr>\n",
       "      <th>4</th>\n",
       "      <td>Accounting</td>\n",
       "      <td>0</td>\n",
       "      <td>0</td>\n",
       "      <td>0</td>\n",
       "      <td>0</td>\n",
       "      <td>0</td>\n",
       "      <td>0</td>\n",
       "      <td>0</td>\n",
       "      <td>0</td>\n",
       "      <td>1</td>\n",
       "    </tr>\n",
       "  </tbody>\n",
       "</table>\n",
       "</div>"
      ],
      "text/plain": [
       "   category_list  Automotive & Sports  Blanks  Cleantech / Semiconductors  \\\n",
       "0            NaN                    0       1                           0   \n",
       "1             3D                    0       0                           0   \n",
       "2    3D Printing                    0       0                           0   \n",
       "3  3D Technology                    0       0                           0   \n",
       "4     Accounting                    0       0                           0   \n",
       "\n",
       "   Entertainment  Health  Manufacturing  News, Search and Messaging  Others  \\\n",
       "0              0       0              0                           0       0   \n",
       "1              0       0              1                           0       0   \n",
       "2              0       0              1                           0       0   \n",
       "3              0       0              1                           0       0   \n",
       "4              0       0              0                           0       0   \n",
       "\n",
       "   Social, Finance, Analytics, Advertising  \n",
       "0                                        0  \n",
       "1                                        0  \n",
       "2                                        0  \n",
       "3                                        0  \n",
       "4                                        1  "
      ]
     },
     "execution_count": 27,
     "metadata": {},
     "output_type": "execute_result"
    }
   ],
   "source": [
    "mapping.head()"
   ]
  },
  {
   "cell_type": "code",
   "execution_count": 28,
   "metadata": {},
   "outputs": [
    {
     "data": {
      "text/html": [
       "<div>\n",
       "<style scoped>\n",
       "    .dataframe tbody tr th:only-of-type {\n",
       "        vertical-align: middle;\n",
       "    }\n",
       "\n",
       "    .dataframe tbody tr th {\n",
       "        vertical-align: top;\n",
       "    }\n",
       "\n",
       "    .dataframe thead th {\n",
       "        text-align: right;\n",
       "    }\n",
       "</style>\n",
       "<table border=\"1\" class=\"dataframe\">\n",
       "  <thead>\n",
       "    <tr style=\"text-align: right;\">\n",
       "      <th></th>\n",
       "      <th>category_list</th>\n",
       "      <th>Automotive &amp; Sports</th>\n",
       "      <th>Blanks</th>\n",
       "      <th>Cleantech / Semiconductors</th>\n",
       "      <th>Entertainment</th>\n",
       "      <th>Health</th>\n",
       "      <th>Manufacturing</th>\n",
       "      <th>News, Search and Messaging</th>\n",
       "      <th>Others</th>\n",
       "      <th>Social, Finance, Analytics, Advertising</th>\n",
       "    </tr>\n",
       "  </thead>\n",
       "  <tbody>\n",
       "    <tr>\n",
       "      <th>683</th>\n",
       "      <td>Wholesale</td>\n",
       "      <td>0</td>\n",
       "      <td>0</td>\n",
       "      <td>0</td>\n",
       "      <td>0</td>\n",
       "      <td>0</td>\n",
       "      <td>0</td>\n",
       "      <td>0</td>\n",
       "      <td>1</td>\n",
       "      <td>0</td>\n",
       "    </tr>\n",
       "    <tr>\n",
       "      <th>684</th>\n",
       "      <td>Wine And Spirits</td>\n",
       "      <td>0</td>\n",
       "      <td>0</td>\n",
       "      <td>0</td>\n",
       "      <td>1</td>\n",
       "      <td>0</td>\n",
       "      <td>0</td>\n",
       "      <td>0</td>\n",
       "      <td>0</td>\n",
       "      <td>0</td>\n",
       "    </tr>\n",
       "    <tr>\n",
       "      <th>685</th>\n",
       "      <td>Wireless</td>\n",
       "      <td>0</td>\n",
       "      <td>0</td>\n",
       "      <td>0</td>\n",
       "      <td>1</td>\n",
       "      <td>0</td>\n",
       "      <td>0</td>\n",
       "      <td>0</td>\n",
       "      <td>0</td>\n",
       "      <td>0</td>\n",
       "    </tr>\n",
       "    <tr>\n",
       "      <th>686</th>\n",
       "      <td>Women</td>\n",
       "      <td>0</td>\n",
       "      <td>0</td>\n",
       "      <td>0</td>\n",
       "      <td>0</td>\n",
       "      <td>0</td>\n",
       "      <td>0</td>\n",
       "      <td>0</td>\n",
       "      <td>1</td>\n",
       "      <td>0</td>\n",
       "    </tr>\n",
       "    <tr>\n",
       "      <th>687</th>\n",
       "      <td>Young Adults</td>\n",
       "      <td>0</td>\n",
       "      <td>0</td>\n",
       "      <td>0</td>\n",
       "      <td>0</td>\n",
       "      <td>0</td>\n",
       "      <td>0</td>\n",
       "      <td>0</td>\n",
       "      <td>1</td>\n",
       "      <td>0</td>\n",
       "    </tr>\n",
       "  </tbody>\n",
       "</table>\n",
       "</div>"
      ],
      "text/plain": [
       "        category_list  Automotive & Sports  Blanks  \\\n",
       "683         Wholesale                    0       0   \n",
       "684  Wine And Spirits                    0       0   \n",
       "685          Wireless                    0       0   \n",
       "686             Women                    0       0   \n",
       "687      Young Adults                    0       0   \n",
       "\n",
       "     Cleantech / Semiconductors  Entertainment  Health  Manufacturing  \\\n",
       "683                           0              0       0              0   \n",
       "684                           0              1       0              0   \n",
       "685                           0              1       0              0   \n",
       "686                           0              0       0              0   \n",
       "687                           0              0       0              0   \n",
       "\n",
       "     News, Search and Messaging  Others  \\\n",
       "683                           0       1   \n",
       "684                           0       0   \n",
       "685                           0       0   \n",
       "686                           0       1   \n",
       "687                           0       1   \n",
       "\n",
       "     Social, Finance, Analytics, Advertising  \n",
       "683                                        0  \n",
       "684                                        0  \n",
       "685                                        0  \n",
       "686                                        0  \n",
       "687                                        0  "
      ]
     },
     "execution_count": 28,
     "metadata": {},
     "output_type": "execute_result"
    }
   ],
   "source": [
    "mapping.tail()"
   ]
  },
  {
   "cell_type": "markdown",
   "metadata": {},
   "source": [
    "Cleaning the mapping file"
   ]
  },
  {
   "cell_type": "code",
   "execution_count": 29,
   "metadata": {},
   "outputs": [
    {
     "data": {
      "text/plain": [
       "category_list                              0.1453\n",
       "Automotive & Sports                        0.0000\n",
       "Blanks                                     0.0000\n",
       "Cleantech / Semiconductors                 0.0000\n",
       "Entertainment                              0.0000\n",
       "Health                                     0.0000\n",
       "Manufacturing                              0.0000\n",
       "News, Search and Messaging                 0.0000\n",
       "Others                                     0.0000\n",
       "Social, Finance, Analytics, Advertising    0.0000\n",
       "dtype: float64"
      ]
     },
     "execution_count": 29,
     "metadata": {},
     "output_type": "execute_result"
    }
   ],
   "source": [
    "round(100*mapping.isnull().sum()/len(mapping),4)"
   ]
  },
  {
   "cell_type": "code",
   "execution_count": 30,
   "metadata": {},
   "outputs": [],
   "source": [
    "mapping=mapping[~mapping[\"category_list\"].isnull()]"
   ]
  },
  {
   "cell_type": "code",
   "execution_count": 31,
   "metadata": {},
   "outputs": [
    {
     "data": {
      "text/plain": [
       "category_list                              0.0\n",
       "Automotive & Sports                        0.0\n",
       "Blanks                                     0.0\n",
       "Cleantech / Semiconductors                 0.0\n",
       "Entertainment                              0.0\n",
       "Health                                     0.0\n",
       "Manufacturing                              0.0\n",
       "News, Search and Messaging                 0.0\n",
       "Others                                     0.0\n",
       "Social, Finance, Analytics, Advertising    0.0\n",
       "dtype: float64"
      ]
     },
     "execution_count": 31,
     "metadata": {},
     "output_type": "execute_result"
    }
   ],
   "source": [
    "round(100*mapping.isnull().sum()/len(mapping),4)"
   ]
  },
  {
   "cell_type": "code",
   "execution_count": 32,
   "metadata": {},
   "outputs": [
    {
     "data": {
      "text/plain": [
       "array(['3D', '3D Printing', '3D Technology', 'Accounting',\n",
       "       'Active Lifestyle', 'Ad Targeting', 'Advanced Materials',\n",
       "       'Adventure Travel', 'Advertising', 'Advertising Exchanges',\n",
       "       'Advertising Networks', 'Advertising Platforms', 'Advice',\n",
       "       'Aerospace', 'Agriculture', 'Air Pollution Control', 'Algorithms',\n",
       "       'All Markets', 'All Students', 'Alter0tive Medicine', 'Alumni',\n",
       "       'A0lytics', 'Android', 'Angels', 'Animal Feed',\n",
       "       'Anything Capital Intensive', 'App Discovery', 'App Marketing',\n",
       "       'App Stores', 'Application Performance Monitoring',\n",
       "       'Application Platforms', 'Apps', 'Aquaculture', 'Architecture',\n",
       "       'Archiving', 'Art', 'Artificial Intelligence', 'Artists Globally',\n",
       "       'Assisitive Technology', 'Assisted Living', 'Auctions', 'Audio',\n",
       "       'Audiobooks', 'Augmented Reality', 'Auto', 'Automated Kiosk',\n",
       "       'Automotive', 'B2B', 'B2B Express Delivery', 'Babies',\n",
       "       'Baby Accessories', 'Baby Boomers', 'Baby Safety', 'Banking',\n",
       "       'Batteries', 'Beauty', 'Bicycles', 'Big Data', 'Big Data A0lytics',\n",
       "       'Billing', 'Bio-Pharm', 'Biofuels', 'Bioinformatics',\n",
       "       'Biomass Power Generation', 'Biometrics', 'Biotechnology',\n",
       "       'Bitcoin', 'Blogging Platforms', 'Boating Industry',\n",
       "       'BPO Services', 'Brand Marketing', 'Brewing',\n",
       "       'Bridging Online and Offline', 'Broadcasting', 'Brokers',\n",
       "       'Browser Extensions', 'Building Owners', 'Building Products',\n",
       "       'Business A0lytics', 'Business Development',\n",
       "       'Business Information Systems', 'Business Intelligence',\n",
       "       'Business Productivity', 'Business Services', 'Business Travelers',\n",
       "       'Cable', 'CAD', 'Call Center Automation', 'Can0bis', 'Carbon',\n",
       "       'Career Ma0gement', 'Career Planning', 'Cars', 'Casual Games',\n",
       "       'Celebrity', 'Certification Test', 'Charities', 'Charity',\n",
       "       'Charter Schools', 'Chat', 'Chemicals', 'Child Care',\n",
       "       'Chi0 Internet', 'Civil Engineers', 'Classifieds', 'Clean Energy',\n",
       "       'Clean Technology', 'Clean Technology IT', 'Clinical Trials',\n",
       "       'Cloud-Based Music', 'Cloud Computing', 'Cloud Data Services',\n",
       "       'Cloud Infrastructure', 'Cloud Ma0gement', 'Cloud Security',\n",
       "       'Coffee', 'Collaboration', 'Collaborative Consumption',\n",
       "       'Collectibles', 'College Campuses', 'College Recruiting',\n",
       "       'Colleges', 'Comics', 'Commercial Real Estate', 'Commercial Solar',\n",
       "       'Commodities', 'Communications Hardware',\n",
       "       'Communications Infrastructure', 'Communities',\n",
       "       'Comparison Shopping', 'Computer Vision', 'Computers',\n",
       "       'Concentrated Solar Power', 'Concerts', 'Console Gaming',\n",
       "       'Construction', 'Consulting', 'Consumer Behavior',\n",
       "       'Consumer Electronics', 'Consumer Goods', 'Consumer Internet',\n",
       "       'Consumer Lending', 'Consumers', 'Contact Centers',\n",
       "       'Contact Ma0gement', 'Content', 'Content Creators',\n",
       "       'Content Delivery', 'Content Discovery', 'Content Syndication',\n",
       "       'Contests', 'Cooking', 'Corporate IT', 'Corporate Training',\n",
       "       'Corporate Wellness', 'Cosmetic Surgery', 'Cosmetics', 'Coupons',\n",
       "       'Coworking', 'Craft Beer', 'Creative', 'Creative Industries',\n",
       "       'Credit', 'Credit Cards', 'CRM', 'Crowdfunding', 'Crowdsourcing',\n",
       "       'Curated Web', 'Custom Retail', 'Customer Service',\n",
       "       'Customer Support Tools', 'Cyber', 'Cyber Security',\n",
       "       'Data Center Automation', 'Data Center Infrastructure',\n",
       "       'Data Centers', 'Data Integration', 'Data Mining', 'Data Privacy',\n",
       "       'Data Security', 'Data Visualization', 'Databases',\n",
       "       'Debt Collecting', 'Defense', 'Delivery', 'Demographies', 'Dental',\n",
       "       'Design', 'Designers', 'Developer APIs', 'Developer Tools',\n",
       "       'Development Platforms', 'Diabetes', 'Diagnostics',\n",
       "       'Dietary Supplements', 'Digital Entertainment', 'Digital Media',\n",
       "       'Digital Rights Ma0gement', 'Digital Sig0ge', 'Direct Advertising',\n",
       "       'Direct Marketing', 'Direct Sales', 'Discounts', 'Displays',\n",
       "       'Disruptive Models', 'Distribution', 'Distributors', 'DIY',\n",
       "       'Doctors', 'Document Ma0gement', 'DOD/Military', 'Domains',\n",
       "       'Drones', 'E-Books', 'E-Commerce', 'E-Commerce Platforms',\n",
       "       'Early-Stage Technology', 'EBooks', 'EDA Tools', 'Ediscovery',\n",
       "       'EdTech', 'Education', 'Educatio0l Games', 'Edutainment',\n",
       "       'Elder Care', 'Electric Vehicles', 'Electrical Distribution',\n",
       "       'Electronic Health Records', 'Electronics', 'Email',\n",
       "       'Email Marketing', 'Email Newsletters',\n",
       "       'Embedded Hardware and Software', 'Emerging Markets',\n",
       "       'Employer Benefits Programs', 'Employment', 'Energy',\n",
       "       'Energy Efficiency', 'Energy IT', 'Energy Ma0gement',\n",
       "       'Energy Storage', 'Engineering Firms', 'Enterprise 2.0',\n",
       "       'Enterprise Application', 'Enterprise Purchasing',\n",
       "       'Enterprise Resource Planning', 'Enterprise Search',\n",
       "       'Enterprise Security', 'Enterprise Software', 'Enterprises',\n",
       "       'Entertainment', 'Entertainment Industry', 'Entrepreneur',\n",
       "       'Environmental Innovation', 'Estimation and Quoting',\n",
       "       'Event Ma0gement', 'Events', 'Exercise', 'Eyewear',\n",
       "       'Face Recognition', 'Facebook Applications', 'Families',\n",
       "       'Fantasy Sports', 'Farmers Market', 'Farming', 'Fashion',\n",
       "       'Fertility', 'Field Support Services', 'File Sharing', 'Film',\n",
       "       'Film Distribution', 'Film Production', 'Fi0nce',\n",
       "       'Fi0nce Technology', 'Fi0ncial Exchanges', 'Fi0ncial Services',\n",
       "       'FinTech', 'Fitness', 'Flash Sales', 'Flash Storage',\n",
       "       'Fleet Ma0gement', 'Flowers', 'Fmcg', 'Food Processing', 'Forums',\n",
       "       'Fraud Detection', 'Freelancers', 'Freemium', 'FreetoPlay Gaming',\n",
       "       'Fruit', 'Fuel Cells', 'Fuels', 'Funeral Industry', 'Furniture',\n",
       "       'Gadget', 'Gambling', 'Game', 'Game Mechanics', 'Games',\n",
       "       'Gamification', 'Gas', 'Gay & Lesbian', 'General Public Worldwide',\n",
       "       'Genetic Testing', 'Geospatial', 'Gift Card', 'Gift Exchange',\n",
       "       'Gift Registries', 'Gold', 'Gover0nce', 'Government Innovation',\n",
       "       'Governments', 'Gps', 'Graphics', 'Green', 'Green Consumer Goods',\n",
       "       'Groceries', 'Group Buying', 'Group SMS', 'Guides', 'Handmade',\n",
       "       'Hardware', 'Hardware + Software', 'Health and Insurance',\n",
       "       'Health and Wellness', 'Health Care',\n",
       "       'Health Care Information Technology', 'Health Diagnostics',\n",
       "       'Health Services Industry', 'Healthcare Services',\n",
       "       'Heavy Industry', 'Hedge Funds', 'High School Students',\n",
       "       'High Schools', 'High Tech', 'Home & Garden', 'Home Automation',\n",
       "       'Home Decor', 'Home Owners', 'Home Renovation',\n",
       "       'Homeland Security', 'Homeless Shelter', 'Hospitality',\n",
       "       'Hospitals', 'Hotels', 'Human Computer Interaction',\n",
       "       'Human Resource Automation', 'Human Resources', 'Humanitarian',\n",
       "       'IaaS', 'ICT', 'Identity', 'Identity Ma0gement',\n",
       "       'Image Recognition', 'Impact Investing', 'In-Flight Entertainment',\n",
       "       'Incentives', 'Incubators', 'Independent Music Labels',\n",
       "       'Independent Pharmacies', 'Indians', 'Indoor Positioning',\n",
       "       'Industrial', 'Industrial Automation', 'Information Security',\n",
       "       'Information Services', 'Information Technology', 'Infrastructure',\n",
       "       'Innovation Engineering', 'Innovation Ma0gement', 'Insurance',\n",
       "       'Intellectual Asset Ma0gement', 'Intellectual Property',\n",
       "       'Intelligent Systems', 'Interest Graph', 'Interface Design',\n",
       "       'Interior Design', 'Internet', 'Internet Infrastructure',\n",
       "       'Internet Marketing', 'Internet of Things',\n",
       "       'Internet Radio Market', 'Internet Service Providers',\n",
       "       'Investment Ma0gement', 'iOS', 'iPad', 'iPhone',\n",
       "       'IT and Cybersecurity', 'IT Ma0gement', 'Jewelry', 'Jour0lism',\n",
       "       'K-12 Education', 'Kids', 'Knowledge Ma0gement', 'Landscaping',\n",
       "       'Language Learning', 'Lasers', 'Law Enforcement',\n",
       "       'Lead Generation', 'Lead Ma0gement', 'Legal', 'Leisure',\n",
       "       'Licensing', 'Life Sciences', 'Lifestyle', 'Lifestyle Businesses',\n",
       "       'Lifestyle Products', 'Lighting', 'Limousines', 'Linux', 'Local',\n",
       "       'Local Advertising', 'Local Based Services', 'Local Businesses',\n",
       "       'Local Commerce', 'Local Search', 'Location Based Services',\n",
       "       'Logistics', 'Logistics Company', 'Lotteries', 'Low Bid Auctions',\n",
       "       'Loyalty Programs', 'M2M', 'Machine Learning', 'Manufacturing',\n",
       "       'Maps', 'Market Research', 'Marketing Automation', 'Marketplaces',\n",
       "       'Mass Customization', 'Match-Making', 'Material Science',\n",
       "       'Mechanical Solutions', 'Media', 'Medical', 'Medical Devices',\n",
       "       'Medical Professio0ls', 'Meeting Software', 'Mens Specific',\n",
       "       'Messaging', 'mHealth', 'Micro-Enterprises', 'MicroBlogging',\n",
       "       'Minerals', 'Mining Technologies', 'Mobile', 'Mobile Advertising',\n",
       "       'Mobile A0lytics', 'Mobile Commerce', 'Mobile Devices',\n",
       "       'Mobile Enterprise', 'Mobile Games', 'Mobile Health',\n",
       "       'Mobile Infrastructure', 'Mobile Payments', 'Mobile Security',\n",
       "       'Mobile Shopping', 'Mobile Social', 'Mobile Software Tools',\n",
       "       'Mobile Video', 'Mobility', 'Monetization', 'Moneymaking',\n",
       "       'Multi-level Marketing', 'Music', 'Music Education',\n",
       "       'Music Services', 'Music Venues', 'Musical Instruments',\n",
       "       'Musicians', '0notechnology', '0tural Language Processing',\n",
       "       '0tural Resources', '0vigation', 'Network Security', 'Networking',\n",
       "       'Neuroscience', 'New Product Development', 'New Technologies',\n",
       "       'News', 'Non-Tech', 'Non Profit', 'Nonprofits', 'Nutrition',\n",
       "       'Office Space', 'Oil', 'Oil & Gas', 'Oil and Gas', 'Online Dating',\n",
       "       'Online Education', 'Online Gaming', 'Online Identity',\n",
       "       'Online Rental', 'Online Reservations', 'Online Scheduling',\n",
       "       'Online Shopping', 'Online Travel', 'Online Video Advertising',\n",
       "       'Open Source', 'Opinions', 'Optical Communications',\n",
       "       'Optimization', 'Organic', 'Organic Food', 'Outdoors',\n",
       "       'Outsourcing', 'P2P Money Transfer', 'PaaS', 'Parenting',\n",
       "       'Parking', 'Payments', 'Peer-to-Peer', 'Performance Marketing',\n",
       "       'Perso0l Branding', 'Perso0l Data', 'Perso0l Fi0nce',\n",
       "       'Perso0l Health', 'Perso0lization', 'Pervasive Computing', 'Pets',\n",
       "       'Pharmaceuticals', 'Photo Editing', 'Photo Sharing', 'Photography',\n",
       "       'Physical Security', 'Physicians', 'Plumbers', 'Point of Sale',\n",
       "       'Politics', 'Polling', 'Portals', 'Postal and Courier Services',\n",
       "       'Pre Seed', 'Predictive A0lytics', 'Presentations',\n",
       "       'Price Comparison', 'Printing', 'Privacy', 'Private School',\n",
       "       'Private Social Networking', 'Procurement', 'Product Design',\n",
       "       'Product Development Services', 'Productivity',\n",
       "       'Productivity Software', 'Professio0l Networking',\n",
       "       'Professio0l Services', 'Project Ma0gement', 'Promotio0l',\n",
       "       'Property Ma0gement', 'Public Relations', 'Public Safety',\n",
       "       'Public Transportation', 'Publishing', 'Q&A', 'QR Codes',\n",
       "       'Real Estate', 'Real Time', 'Realtors', 'Recreation', 'Recruiting',\n",
       "       'Recycling', 'Religion', 'Renewable Energies', 'Renewable Tech',\n",
       "       'Rental Housing', 'Reputation', 'Resorts', 'Restaurants', 'Retail',\n",
       "       'Retail Technology', 'Reviews and Recommendations', 'RFID',\n",
       "       'Ride Sharing', 'Risk Ma0gement', 'Robotics', 'SaaS',\n",
       "       'Sales and Marketing', 'Sales Automation', 'Search',\n",
       "       'Search Marketing', 'Security',\n",
       "       'Semiconductor Manufacturing Equipment', 'Semiconductors',\n",
       "       'Senior Citizens', 'Senior Health', 'Sensors', 'SEO',\n",
       "       'Service Industries', 'Service Providers', 'Services', 'SexTech',\n",
       "       'Shared Services', 'Shipping', 'Shoes', 'Shopping', 'Simulation',\n",
       "       'Skill Assessment', 'Small and Medium Businesses', 'Smart Grid',\n",
       "       'SNS', 'Soccer', 'Social + Mobile + Local', 'Social Bookmarking',\n",
       "       'Social Business', 'Social Buying', 'Social Commerce',\n",
       "       'Social CRM', 'Social Fundraising', 'Social Games', 'Social Media',\n",
       "       'Social Media Ma0gement', 'Social Media Marketing',\n",
       "       'Social Media Platforms', 'Social Network Media', 'Social News',\n",
       "       'Social Recruiting', 'Social Television', 'Social Travel',\n",
       "       'Software', 'Solar', 'Space Travel', 'Specialty Chemicals',\n",
       "       'Specialty Foods', 'Speech Recognition', 'Sporting Goods',\n",
       "       'Sports', 'Staffing Firms', 'Startups', 'Stock Exchanges',\n",
       "       'Storage', 'Subscription Service', 'Supply Chain Ma0gement',\n",
       "       'Surveys', 'Synchronization', 'Systems', 'Task Ma0gement', 'Taxis',\n",
       "       'Tea', 'Technology', 'Telecommunications', 'Television',\n",
       "       'Textiles', 'Theatre', 'Therapeutics', 'Ticketing', 'Tourism',\n",
       "       'Tracking', 'Trading', 'Training', 'Translation', 'Transportation',\n",
       "       'Travel', 'Travel & Tourism', 'Universities',\n",
       "       'University Students', 'Unmanned Air Systems', 'Usability',\n",
       "       'User Experience Design', 'User Interface', 'Utilities',\n",
       "       'Vending and Concessions', 'Venture Capital', 'Veteri0ry', 'Video',\n",
       "       'Video Conferencing', 'Video Games', 'Video on Demand',\n",
       "       'Video Streaming', 'Virtual Workforces', 'VoIP', 'Waste Ma0gement',\n",
       "       'Watch', 'Water', 'Water Purification', 'Wearables',\n",
       "       'Web Browsers', 'Web Design', 'Web Development', 'Web Hosting',\n",
       "       'Web Tools', 'Weddings', 'Wholesale', 'Wine And Spirits',\n",
       "       'Wireless', 'Women', 'Young Adults'], dtype=object)"
      ]
     },
     "execution_count": 32,
     "metadata": {},
     "output_type": "execute_result"
    }
   ],
   "source": [
    "mapping[\"category_list\"].unique()"
   ]
  },
  {
   "cell_type": "code",
   "execution_count": 33,
   "metadata": {},
   "outputs": [],
   "source": [
    "mapping[\"category_list\"]=mapping[\"category_list\"].apply(lambda x:x.split(\"|\")[0])"
   ]
  },
  {
   "cell_type": "code",
   "execution_count": 34,
   "metadata": {},
   "outputs": [
    {
     "data": {
      "text/plain": [
       "1                    3D\n",
       "2           3D Printing\n",
       "3         3D Technology\n",
       "4            Accounting\n",
       "5      Active Lifestyle\n",
       "             ...       \n",
       "683           Wholesale\n",
       "684    Wine And Spirits\n",
       "685            Wireless\n",
       "686               Women\n",
       "687        Young Adults\n",
       "Name: category_list, Length: 687, dtype: object"
      ]
     },
     "execution_count": 34,
     "metadata": {},
     "output_type": "execute_result"
    }
   ],
   "source": [
    "mapping[\"category_list\"]"
   ]
  },
  {
   "cell_type": "code",
   "execution_count": 35,
   "metadata": {},
   "outputs": [],
   "source": [
    "mapping[\"category_list\"]=mapping[\"category_list\"].apply(lambda x:x.replace(\"0\",\"na\"))"
   ]
  },
  {
   "cell_type": "code",
   "execution_count": 36,
   "metadata": {},
   "outputs": [
    {
     "data": {
      "text/plain": [
       "array(['3D', '3D Printing', '3D Technology', 'Accounting',\n",
       "       'Active Lifestyle', 'Ad Targeting', 'Advanced Materials',\n",
       "       'Adventure Travel', 'Advertising', 'Advertising Exchanges',\n",
       "       'Advertising Networks', 'Advertising Platforms', 'Advice',\n",
       "       'Aerospace', 'Agriculture', 'Air Pollution Control', 'Algorithms',\n",
       "       'All Markets', 'All Students', 'Alternative Medicine', 'Alumni',\n",
       "       'Analytics', 'Android', 'Angels', 'Animal Feed',\n",
       "       'Anything Capital Intensive', 'App Discovery', 'App Marketing',\n",
       "       'App Stores', 'Application Performance Monitoring',\n",
       "       'Application Platforms', 'Apps', 'Aquaculture', 'Architecture',\n",
       "       'Archiving', 'Art', 'Artificial Intelligence', 'Artists Globally',\n",
       "       'Assisitive Technology', 'Assisted Living', 'Auctions', 'Audio',\n",
       "       'Audiobooks', 'Augmented Reality', 'Auto', 'Automated Kiosk',\n",
       "       'Automotive', 'B2B', 'B2B Express Delivery', 'Babies',\n",
       "       'Baby Accessories', 'Baby Boomers', 'Baby Safety', 'Banking',\n",
       "       'Batteries', 'Beauty', 'Bicycles', 'Big Data',\n",
       "       'Big Data Analytics', 'Billing', 'Bio-Pharm', 'Biofuels',\n",
       "       'Bioinformatics', 'Biomass Power Generation', 'Biometrics',\n",
       "       'Biotechnology', 'Bitcoin', 'Blogging Platforms',\n",
       "       'Boating Industry', 'BPO Services', 'Brand Marketing', 'Brewing',\n",
       "       'Bridging Online and Offline', 'Broadcasting', 'Brokers',\n",
       "       'Browser Extensions', 'Building Owners', 'Building Products',\n",
       "       'Business Analytics', 'Business Development',\n",
       "       'Business Information Systems', 'Business Intelligence',\n",
       "       'Business Productivity', 'Business Services', 'Business Travelers',\n",
       "       'Cable', 'CAD', 'Call Center Automation', 'Cannabis', 'Carbon',\n",
       "       'Career Management', 'Career Planning', 'Cars', 'Casual Games',\n",
       "       'Celebrity', 'Certification Test', 'Charities', 'Charity',\n",
       "       'Charter Schools', 'Chat', 'Chemicals', 'Child Care',\n",
       "       'China Internet', 'Civil Engineers', 'Classifieds', 'Clean Energy',\n",
       "       'Clean Technology', 'Clean Technology IT', 'Clinical Trials',\n",
       "       'Cloud-Based Music', 'Cloud Computing', 'Cloud Data Services',\n",
       "       'Cloud Infrastructure', 'Cloud Management', 'Cloud Security',\n",
       "       'Coffee', 'Collaboration', 'Collaborative Consumption',\n",
       "       'Collectibles', 'College Campuses', 'College Recruiting',\n",
       "       'Colleges', 'Comics', 'Commercial Real Estate', 'Commercial Solar',\n",
       "       'Commodities', 'Communications Hardware',\n",
       "       'Communications Infrastructure', 'Communities',\n",
       "       'Comparison Shopping', 'Computer Vision', 'Computers',\n",
       "       'Concentrated Solar Power', 'Concerts', 'Console Gaming',\n",
       "       'Construction', 'Consulting', 'Consumer Behavior',\n",
       "       'Consumer Electronics', 'Consumer Goods', 'Consumer Internet',\n",
       "       'Consumer Lending', 'Consumers', 'Contact Centers',\n",
       "       'Contact Management', 'Content', 'Content Creators',\n",
       "       'Content Delivery', 'Content Discovery', 'Content Syndication',\n",
       "       'Contests', 'Cooking', 'Corporate IT', 'Corporate Training',\n",
       "       'Corporate Wellness', 'Cosmetic Surgery', 'Cosmetics', 'Coupons',\n",
       "       'Coworking', 'Craft Beer', 'Creative', 'Creative Industries',\n",
       "       'Credit', 'Credit Cards', 'CRM', 'Crowdfunding', 'Crowdsourcing',\n",
       "       'Curated Web', 'Custom Retail', 'Customer Service',\n",
       "       'Customer Support Tools', 'Cyber', 'Cyber Security',\n",
       "       'Data Center Automation', 'Data Center Infrastructure',\n",
       "       'Data Centers', 'Data Integration', 'Data Mining', 'Data Privacy',\n",
       "       'Data Security', 'Data Visualization', 'Databases',\n",
       "       'Debt Collecting', 'Defense', 'Delivery', 'Demographies', 'Dental',\n",
       "       'Design', 'Designers', 'Developer APIs', 'Developer Tools',\n",
       "       'Development Platforms', 'Diabetes', 'Diagnostics',\n",
       "       'Dietary Supplements', 'Digital Entertainment', 'Digital Media',\n",
       "       'Digital Rights Management', 'Digital Signage',\n",
       "       'Direct Advertising', 'Direct Marketing', 'Direct Sales',\n",
       "       'Discounts', 'Displays', 'Disruptive Models', 'Distribution',\n",
       "       'Distributors', 'DIY', 'Doctors', 'Document Management',\n",
       "       'DOD/Military', 'Domains', 'Drones', 'E-Books', 'E-Commerce',\n",
       "       'E-Commerce Platforms', 'Early-Stage Technology', 'EBooks',\n",
       "       'EDA Tools', 'Ediscovery', 'EdTech', 'Education',\n",
       "       'Educational Games', 'Edutainment', 'Elder Care',\n",
       "       'Electric Vehicles', 'Electrical Distribution',\n",
       "       'Electronic Health Records', 'Electronics', 'Email',\n",
       "       'Email Marketing', 'Email Newsletters',\n",
       "       'Embedded Hardware and Software', 'Emerging Markets',\n",
       "       'Employer Benefits Programs', 'Employment', 'Energy',\n",
       "       'Energy Efficiency', 'Energy IT', 'Energy Management',\n",
       "       'Energy Storage', 'Engineering Firms', 'Enterprise 2.na',\n",
       "       'Enterprise Application', 'Enterprise Purchasing',\n",
       "       'Enterprise Resource Planning', 'Enterprise Search',\n",
       "       'Enterprise Security', 'Enterprise Software', 'Enterprises',\n",
       "       'Entertainment', 'Entertainment Industry', 'Entrepreneur',\n",
       "       'Environmental Innovation', 'Estimation and Quoting',\n",
       "       'Event Management', 'Events', 'Exercise', 'Eyewear',\n",
       "       'Face Recognition', 'Facebook Applications', 'Families',\n",
       "       'Fantasy Sports', 'Farmers Market', 'Farming', 'Fashion',\n",
       "       'Fertility', 'Field Support Services', 'File Sharing', 'Film',\n",
       "       'Film Distribution', 'Film Production', 'Finance',\n",
       "       'Finance Technology', 'Financial Exchanges', 'Financial Services',\n",
       "       'FinTech', 'Fitness', 'Flash Sales', 'Flash Storage',\n",
       "       'Fleet Management', 'Flowers', 'Fmcg', 'Food Processing', 'Forums',\n",
       "       'Fraud Detection', 'Freelancers', 'Freemium', 'FreetoPlay Gaming',\n",
       "       'Fruit', 'Fuel Cells', 'Fuels', 'Funeral Industry', 'Furniture',\n",
       "       'Gadget', 'Gambling', 'Game', 'Game Mechanics', 'Games',\n",
       "       'Gamification', 'Gas', 'Gay & Lesbian', 'General Public Worldwide',\n",
       "       'Genetic Testing', 'Geospatial', 'Gift Card', 'Gift Exchange',\n",
       "       'Gift Registries', 'Gold', 'Governance', 'Government Innovation',\n",
       "       'Governments', 'Gps', 'Graphics', 'Green', 'Green Consumer Goods',\n",
       "       'Groceries', 'Group Buying', 'Group SMS', 'Guides', 'Handmade',\n",
       "       'Hardware', 'Hardware + Software', 'Health and Insurance',\n",
       "       'Health and Wellness', 'Health Care',\n",
       "       'Health Care Information Technology', 'Health Diagnostics',\n",
       "       'Health Services Industry', 'Healthcare Services',\n",
       "       'Heavy Industry', 'Hedge Funds', 'High School Students',\n",
       "       'High Schools', 'High Tech', 'Home & Garden', 'Home Automation',\n",
       "       'Home Decor', 'Home Owners', 'Home Renovation',\n",
       "       'Homeland Security', 'Homeless Shelter', 'Hospitality',\n",
       "       'Hospitals', 'Hotels', 'Human Computer Interaction',\n",
       "       'Human Resource Automation', 'Human Resources', 'Humanitarian',\n",
       "       'IaaS', 'ICT', 'Identity', 'Identity Management',\n",
       "       'Image Recognition', 'Impact Investing', 'In-Flight Entertainment',\n",
       "       'Incentives', 'Incubators', 'Independent Music Labels',\n",
       "       'Independent Pharmacies', 'Indians', 'Indoor Positioning',\n",
       "       'Industrial', 'Industrial Automation', 'Information Security',\n",
       "       'Information Services', 'Information Technology', 'Infrastructure',\n",
       "       'Innovation Engineering', 'Innovation Management', 'Insurance',\n",
       "       'Intellectual Asset Management', 'Intellectual Property',\n",
       "       'Intelligent Systems', 'Interest Graph', 'Interface Design',\n",
       "       'Interior Design', 'Internet', 'Internet Infrastructure',\n",
       "       'Internet Marketing', 'Internet of Things',\n",
       "       'Internet Radio Market', 'Internet Service Providers',\n",
       "       'Investment Management', 'iOS', 'iPad', 'iPhone',\n",
       "       'IT and Cybersecurity', 'IT Management', 'Jewelry', 'Journalism',\n",
       "       'K-12 Education', 'Kids', 'Knowledge Management', 'Landscaping',\n",
       "       'Language Learning', 'Lasers', 'Law Enforcement',\n",
       "       'Lead Generation', 'Lead Management', 'Legal', 'Leisure',\n",
       "       'Licensing', 'Life Sciences', 'Lifestyle', 'Lifestyle Businesses',\n",
       "       'Lifestyle Products', 'Lighting', 'Limousines', 'Linux', 'Local',\n",
       "       'Local Advertising', 'Local Based Services', 'Local Businesses',\n",
       "       'Local Commerce', 'Local Search', 'Location Based Services',\n",
       "       'Logistics', 'Logistics Company', 'Lotteries', 'Low Bid Auctions',\n",
       "       'Loyalty Programs', 'M2M', 'Machine Learning', 'Manufacturing',\n",
       "       'Maps', 'Market Research', 'Marketing Automation', 'Marketplaces',\n",
       "       'Mass Customization', 'Match-Making', 'Material Science',\n",
       "       'Mechanical Solutions', 'Media', 'Medical', 'Medical Devices',\n",
       "       'Medical Professionals', 'Meeting Software', 'Mens Specific',\n",
       "       'Messaging', 'mHealth', 'Micro-Enterprises', 'MicroBlogging',\n",
       "       'Minerals', 'Mining Technologies', 'Mobile', 'Mobile Advertising',\n",
       "       'Mobile Analytics', 'Mobile Commerce', 'Mobile Devices',\n",
       "       'Mobile Enterprise', 'Mobile Games', 'Mobile Health',\n",
       "       'Mobile Infrastructure', 'Mobile Payments', 'Mobile Security',\n",
       "       'Mobile Shopping', 'Mobile Social', 'Mobile Software Tools',\n",
       "       'Mobile Video', 'Mobility', 'Monetization', 'Moneymaking',\n",
       "       'Multi-level Marketing', 'Music', 'Music Education',\n",
       "       'Music Services', 'Music Venues', 'Musical Instruments',\n",
       "       'Musicians', 'nanotechnology', 'natural Language Processing',\n",
       "       'natural Resources', 'navigation', 'Network Security',\n",
       "       'Networking', 'Neuroscience', 'New Product Development',\n",
       "       'New Technologies', 'News', 'Non-Tech', 'Non Profit', 'Nonprofits',\n",
       "       'Nutrition', 'Office Space', 'Oil', 'Oil & Gas', 'Oil and Gas',\n",
       "       'Online Dating', 'Online Education', 'Online Gaming',\n",
       "       'Online Identity', 'Online Rental', 'Online Reservations',\n",
       "       'Online Scheduling', 'Online Shopping', 'Online Travel',\n",
       "       'Online Video Advertising', 'Open Source', 'Opinions',\n",
       "       'Optical Communications', 'Optimization', 'Organic',\n",
       "       'Organic Food', 'Outdoors', 'Outsourcing', 'P2P Money Transfer',\n",
       "       'PaaS', 'Parenting', 'Parking', 'Payments', 'Peer-to-Peer',\n",
       "       'Performance Marketing', 'Personal Branding', 'Personal Data',\n",
       "       'Personal Finance', 'Personal Health', 'Personalization',\n",
       "       'Pervasive Computing', 'Pets', 'Pharmaceuticals', 'Photo Editing',\n",
       "       'Photo Sharing', 'Photography', 'Physical Security', 'Physicians',\n",
       "       'Plumbers', 'Point of Sale', 'Politics', 'Polling', 'Portals',\n",
       "       'Postal and Courier Services', 'Pre Seed', 'Predictive Analytics',\n",
       "       'Presentations', 'Price Comparison', 'Printing', 'Privacy',\n",
       "       'Private School', 'Private Social Networking', 'Procurement',\n",
       "       'Product Design', 'Product Development Services', 'Productivity',\n",
       "       'Productivity Software', 'Professional Networking',\n",
       "       'Professional Services', 'Project Management', 'Promotional',\n",
       "       'Property Management', 'Public Relations', 'Public Safety',\n",
       "       'Public Transportation', 'Publishing', 'Q&A', 'QR Codes',\n",
       "       'Real Estate', 'Real Time', 'Realtors', 'Recreation', 'Recruiting',\n",
       "       'Recycling', 'Religion', 'Renewable Energies', 'Renewable Tech',\n",
       "       'Rental Housing', 'Reputation', 'Resorts', 'Restaurants', 'Retail',\n",
       "       'Retail Technology', 'Reviews and Recommendations', 'RFID',\n",
       "       'Ride Sharing', 'Risk Management', 'Robotics', 'SaaS',\n",
       "       'Sales and Marketing', 'Sales Automation', 'Search',\n",
       "       'Search Marketing', 'Security',\n",
       "       'Semiconductor Manufacturing Equipment', 'Semiconductors',\n",
       "       'Senior Citizens', 'Senior Health', 'Sensors', 'SEO',\n",
       "       'Service Industries', 'Service Providers', 'Services', 'SexTech',\n",
       "       'Shared Services', 'Shipping', 'Shoes', 'Shopping', 'Simulation',\n",
       "       'Skill Assessment', 'Small and Medium Businesses', 'Smart Grid',\n",
       "       'SNS', 'Soccer', 'Social + Mobile + Local', 'Social Bookmarking',\n",
       "       'Social Business', 'Social Buying', 'Social Commerce',\n",
       "       'Social CRM', 'Social Fundraising', 'Social Games', 'Social Media',\n",
       "       'Social Media Management', 'Social Media Marketing',\n",
       "       'Social Media Platforms', 'Social Network Media', 'Social News',\n",
       "       'Social Recruiting', 'Social Television', 'Social Travel',\n",
       "       'Software', 'Solar', 'Space Travel', 'Specialty Chemicals',\n",
       "       'Specialty Foods', 'Speech Recognition', 'Sporting Goods',\n",
       "       'Sports', 'Staffing Firms', 'Startups', 'Stock Exchanges',\n",
       "       'Storage', 'Subscription Service', 'Supply Chain Management',\n",
       "       'Surveys', 'Synchronization', 'Systems', 'Task Management',\n",
       "       'Taxis', 'Tea', 'Technology', 'Telecommunications', 'Television',\n",
       "       'Textiles', 'Theatre', 'Therapeutics', 'Ticketing', 'Tourism',\n",
       "       'Tracking', 'Trading', 'Training', 'Translation', 'Transportation',\n",
       "       'Travel', 'Travel & Tourism', 'Universities',\n",
       "       'University Students', 'Unmanned Air Systems', 'Usability',\n",
       "       'User Experience Design', 'User Interface', 'Utilities',\n",
       "       'Vending and Concessions', 'Venture Capital', 'Veterinary',\n",
       "       'Video', 'Video Conferencing', 'Video Games', 'Video on Demand',\n",
       "       'Video Streaming', 'Virtual Workforces', 'VoIP',\n",
       "       'Waste Management', 'Watch', 'Water', 'Water Purification',\n",
       "       'Wearables', 'Web Browsers', 'Web Design', 'Web Development',\n",
       "       'Web Hosting', 'Web Tools', 'Weddings', 'Wholesale',\n",
       "       'Wine And Spirits', 'Wireless', 'Women', 'Young Adults'],\n",
       "      dtype=object)"
      ]
     },
     "execution_count": 36,
     "metadata": {},
     "output_type": "execute_result"
    }
   ],
   "source": [
    "mapping[\"category_list\"].unique()"
   ]
  },
  {
   "cell_type": "code",
   "execution_count": 37,
   "metadata": {},
   "outputs": [],
   "source": [
    "main_sector=pd.melt(mapping,id_vars=[\"category_list\"],var_name=\"main_sector\")"
   ]
  },
  {
   "cell_type": "code",
   "execution_count": 38,
   "metadata": {},
   "outputs": [
    {
     "data": {
      "text/html": [
       "<div>\n",
       "<style scoped>\n",
       "    .dataframe tbody tr th:only-of-type {\n",
       "        vertical-align: middle;\n",
       "    }\n",
       "\n",
       "    .dataframe tbody tr th {\n",
       "        vertical-align: top;\n",
       "    }\n",
       "\n",
       "    .dataframe thead th {\n",
       "        text-align: right;\n",
       "    }\n",
       "</style>\n",
       "<table border=\"1\" class=\"dataframe\">\n",
       "  <thead>\n",
       "    <tr style=\"text-align: right;\">\n",
       "      <th></th>\n",
       "      <th>category_list</th>\n",
       "      <th>main_sector</th>\n",
       "      <th>value</th>\n",
       "    </tr>\n",
       "  </thead>\n",
       "  <tbody>\n",
       "    <tr>\n",
       "      <th>0</th>\n",
       "      <td>3D</td>\n",
       "      <td>Automotive &amp; Sports</td>\n",
       "      <td>0</td>\n",
       "    </tr>\n",
       "    <tr>\n",
       "      <th>1</th>\n",
       "      <td>3D Printing</td>\n",
       "      <td>Automotive &amp; Sports</td>\n",
       "      <td>0</td>\n",
       "    </tr>\n",
       "    <tr>\n",
       "      <th>2</th>\n",
       "      <td>3D Technology</td>\n",
       "      <td>Automotive &amp; Sports</td>\n",
       "      <td>0</td>\n",
       "    </tr>\n",
       "    <tr>\n",
       "      <th>3</th>\n",
       "      <td>Accounting</td>\n",
       "      <td>Automotive &amp; Sports</td>\n",
       "      <td>0</td>\n",
       "    </tr>\n",
       "    <tr>\n",
       "      <th>4</th>\n",
       "      <td>Active Lifestyle</td>\n",
       "      <td>Automotive &amp; Sports</td>\n",
       "      <td>0</td>\n",
       "    </tr>\n",
       "    <tr>\n",
       "      <th>...</th>\n",
       "      <td>...</td>\n",
       "      <td>...</td>\n",
       "      <td>...</td>\n",
       "    </tr>\n",
       "    <tr>\n",
       "      <th>6178</th>\n",
       "      <td>Wholesale</td>\n",
       "      <td>Social, Finance, Analytics, Advertising</td>\n",
       "      <td>0</td>\n",
       "    </tr>\n",
       "    <tr>\n",
       "      <th>6179</th>\n",
       "      <td>Wine And Spirits</td>\n",
       "      <td>Social, Finance, Analytics, Advertising</td>\n",
       "      <td>0</td>\n",
       "    </tr>\n",
       "    <tr>\n",
       "      <th>6180</th>\n",
       "      <td>Wireless</td>\n",
       "      <td>Social, Finance, Analytics, Advertising</td>\n",
       "      <td>0</td>\n",
       "    </tr>\n",
       "    <tr>\n",
       "      <th>6181</th>\n",
       "      <td>Women</td>\n",
       "      <td>Social, Finance, Analytics, Advertising</td>\n",
       "      <td>0</td>\n",
       "    </tr>\n",
       "    <tr>\n",
       "      <th>6182</th>\n",
       "      <td>Young Adults</td>\n",
       "      <td>Social, Finance, Analytics, Advertising</td>\n",
       "      <td>0</td>\n",
       "    </tr>\n",
       "  </tbody>\n",
       "</table>\n",
       "<p>6183 rows × 3 columns</p>\n",
       "</div>"
      ],
      "text/plain": [
       "         category_list                              main_sector  value\n",
       "0                   3D                      Automotive & Sports      0\n",
       "1          3D Printing                      Automotive & Sports      0\n",
       "2        3D Technology                      Automotive & Sports      0\n",
       "3           Accounting                      Automotive & Sports      0\n",
       "4     Active Lifestyle                      Automotive & Sports      0\n",
       "...                ...                                      ...    ...\n",
       "6178         Wholesale  Social, Finance, Analytics, Advertising      0\n",
       "6179  Wine And Spirits  Social, Finance, Analytics, Advertising      0\n",
       "6180          Wireless  Social, Finance, Analytics, Advertising      0\n",
       "6181             Women  Social, Finance, Analytics, Advertising      0\n",
       "6182      Young Adults  Social, Finance, Analytics, Advertising      0\n",
       "\n",
       "[6183 rows x 3 columns]"
      ]
     },
     "execution_count": 38,
     "metadata": {},
     "output_type": "execute_result"
    }
   ],
   "source": [
    "main_sector"
   ]
  },
  {
   "cell_type": "code",
   "execution_count": 39,
   "metadata": {},
   "outputs": [],
   "source": [
    "main_sector=main_sector.loc[main_sector[\"value\"]==1]"
   ]
  },
  {
   "cell_type": "code",
   "execution_count": 40,
   "metadata": {},
   "outputs": [
    {
     "data": {
      "text/html": [
       "<div>\n",
       "<style scoped>\n",
       "    .dataframe tbody tr th:only-of-type {\n",
       "        vertical-align: middle;\n",
       "    }\n",
       "\n",
       "    .dataframe tbody tr th {\n",
       "        vertical-align: top;\n",
       "    }\n",
       "\n",
       "    .dataframe thead th {\n",
       "        text-align: right;\n",
       "    }\n",
       "</style>\n",
       "<table border=\"1\" class=\"dataframe\">\n",
       "  <thead>\n",
       "    <tr style=\"text-align: right;\">\n",
       "      <th></th>\n",
       "      <th>category_list</th>\n",
       "      <th>main_sector</th>\n",
       "      <th>value</th>\n",
       "    </tr>\n",
       "  </thead>\n",
       "  <tbody>\n",
       "    <tr>\n",
       "      <th>7</th>\n",
       "      <td>Adventure Travel</td>\n",
       "      <td>Automotive &amp; Sports</td>\n",
       "      <td>1</td>\n",
       "    </tr>\n",
       "    <tr>\n",
       "      <th>13</th>\n",
       "      <td>Aerospace</td>\n",
       "      <td>Automotive &amp; Sports</td>\n",
       "      <td>1</td>\n",
       "    </tr>\n",
       "    <tr>\n",
       "      <th>44</th>\n",
       "      <td>Auto</td>\n",
       "      <td>Automotive &amp; Sports</td>\n",
       "      <td>1</td>\n",
       "    </tr>\n",
       "    <tr>\n",
       "      <th>45</th>\n",
       "      <td>Automated Kiosk</td>\n",
       "      <td>Automotive &amp; Sports</td>\n",
       "      <td>1</td>\n",
       "    </tr>\n",
       "    <tr>\n",
       "      <th>46</th>\n",
       "      <td>Automotive</td>\n",
       "      <td>Automotive &amp; Sports</td>\n",
       "      <td>1</td>\n",
       "    </tr>\n",
       "    <tr>\n",
       "      <th>...</th>\n",
       "      <td>...</td>\n",
       "      <td>...</td>\n",
       "      <td>...</td>\n",
       "    </tr>\n",
       "    <tr>\n",
       "      <th>6112</th>\n",
       "      <td>Social Recruiting</td>\n",
       "      <td>Social, Finance, Analytics, Advertising</td>\n",
       "      <td>1</td>\n",
       "    </tr>\n",
       "    <tr>\n",
       "      <th>6113</th>\n",
       "      <td>Social Television</td>\n",
       "      <td>Social, Finance, Analytics, Advertising</td>\n",
       "      <td>1</td>\n",
       "    </tr>\n",
       "    <tr>\n",
       "      <th>6114</th>\n",
       "      <td>Social Travel</td>\n",
       "      <td>Social, Finance, Analytics, Advertising</td>\n",
       "      <td>1</td>\n",
       "    </tr>\n",
       "    <tr>\n",
       "      <th>6125</th>\n",
       "      <td>Stock Exchanges</td>\n",
       "      <td>Social, Finance, Analytics, Advertising</td>\n",
       "      <td>1</td>\n",
       "    </tr>\n",
       "    <tr>\n",
       "      <th>6158</th>\n",
       "      <td>Venture Capital</td>\n",
       "      <td>Social, Finance, Analytics, Advertising</td>\n",
       "      <td>1</td>\n",
       "    </tr>\n",
       "  </tbody>\n",
       "</table>\n",
       "<p>687 rows × 3 columns</p>\n",
       "</div>"
      ],
      "text/plain": [
       "          category_list                              main_sector  value\n",
       "7      Adventure Travel                      Automotive & Sports      1\n",
       "13            Aerospace                      Automotive & Sports      1\n",
       "44                 Auto                      Automotive & Sports      1\n",
       "45      Automated Kiosk                      Automotive & Sports      1\n",
       "46           Automotive                      Automotive & Sports      1\n",
       "...                 ...                                      ...    ...\n",
       "6112  Social Recruiting  Social, Finance, Analytics, Advertising      1\n",
       "6113  Social Television  Social, Finance, Analytics, Advertising      1\n",
       "6114      Social Travel  Social, Finance, Analytics, Advertising      1\n",
       "6125    Stock Exchanges  Social, Finance, Analytics, Advertising      1\n",
       "6158    Venture Capital  Social, Finance, Analytics, Advertising      1\n",
       "\n",
       "[687 rows x 3 columns]"
      ]
     },
     "execution_count": 40,
     "metadata": {},
     "output_type": "execute_result"
    }
   ],
   "source": [
    "main_sector"
   ]
  },
  {
   "cell_type": "code",
   "execution_count": 41,
   "metadata": {},
   "outputs": [],
   "source": [
    "main_sector.reset_index(drop=\"index\",inplace=True)"
   ]
  },
  {
   "cell_type": "code",
   "execution_count": 42,
   "metadata": {},
   "outputs": [
    {
     "data": {
      "text/html": [
       "<div>\n",
       "<style scoped>\n",
       "    .dataframe tbody tr th:only-of-type {\n",
       "        vertical-align: middle;\n",
       "    }\n",
       "\n",
       "    .dataframe tbody tr th {\n",
       "        vertical-align: top;\n",
       "    }\n",
       "\n",
       "    .dataframe thead th {\n",
       "        text-align: right;\n",
       "    }\n",
       "</style>\n",
       "<table border=\"1\" class=\"dataframe\">\n",
       "  <thead>\n",
       "    <tr style=\"text-align: right;\">\n",
       "      <th></th>\n",
       "      <th>category_list</th>\n",
       "      <th>main_sector</th>\n",
       "      <th>value</th>\n",
       "    </tr>\n",
       "  </thead>\n",
       "  <tbody>\n",
       "    <tr>\n",
       "      <th>0</th>\n",
       "      <td>Adventure Travel</td>\n",
       "      <td>Automotive &amp; Sports</td>\n",
       "      <td>1</td>\n",
       "    </tr>\n",
       "    <tr>\n",
       "      <th>1</th>\n",
       "      <td>Aerospace</td>\n",
       "      <td>Automotive &amp; Sports</td>\n",
       "      <td>1</td>\n",
       "    </tr>\n",
       "    <tr>\n",
       "      <th>2</th>\n",
       "      <td>Auto</td>\n",
       "      <td>Automotive &amp; Sports</td>\n",
       "      <td>1</td>\n",
       "    </tr>\n",
       "    <tr>\n",
       "      <th>3</th>\n",
       "      <td>Automated Kiosk</td>\n",
       "      <td>Automotive &amp; Sports</td>\n",
       "      <td>1</td>\n",
       "    </tr>\n",
       "    <tr>\n",
       "      <th>4</th>\n",
       "      <td>Automotive</td>\n",
       "      <td>Automotive &amp; Sports</td>\n",
       "      <td>1</td>\n",
       "    </tr>\n",
       "    <tr>\n",
       "      <th>...</th>\n",
       "      <td>...</td>\n",
       "      <td>...</td>\n",
       "      <td>...</td>\n",
       "    </tr>\n",
       "    <tr>\n",
       "      <th>682</th>\n",
       "      <td>Social Recruiting</td>\n",
       "      <td>Social, Finance, Analytics, Advertising</td>\n",
       "      <td>1</td>\n",
       "    </tr>\n",
       "    <tr>\n",
       "      <th>683</th>\n",
       "      <td>Social Television</td>\n",
       "      <td>Social, Finance, Analytics, Advertising</td>\n",
       "      <td>1</td>\n",
       "    </tr>\n",
       "    <tr>\n",
       "      <th>684</th>\n",
       "      <td>Social Travel</td>\n",
       "      <td>Social, Finance, Analytics, Advertising</td>\n",
       "      <td>1</td>\n",
       "    </tr>\n",
       "    <tr>\n",
       "      <th>685</th>\n",
       "      <td>Stock Exchanges</td>\n",
       "      <td>Social, Finance, Analytics, Advertising</td>\n",
       "      <td>1</td>\n",
       "    </tr>\n",
       "    <tr>\n",
       "      <th>686</th>\n",
       "      <td>Venture Capital</td>\n",
       "      <td>Social, Finance, Analytics, Advertising</td>\n",
       "      <td>1</td>\n",
       "    </tr>\n",
       "  </tbody>\n",
       "</table>\n",
       "<p>687 rows × 3 columns</p>\n",
       "</div>"
      ],
      "text/plain": [
       "         category_list                              main_sector  value\n",
       "0     Adventure Travel                      Automotive & Sports      1\n",
       "1            Aerospace                      Automotive & Sports      1\n",
       "2                 Auto                      Automotive & Sports      1\n",
       "3      Automated Kiosk                      Automotive & Sports      1\n",
       "4           Automotive                      Automotive & Sports      1\n",
       "..                 ...                                      ...    ...\n",
       "682  Social Recruiting  Social, Finance, Analytics, Advertising      1\n",
       "683  Social Television  Social, Finance, Analytics, Advertising      1\n",
       "684      Social Travel  Social, Finance, Analytics, Advertising      1\n",
       "685    Stock Exchanges  Social, Finance, Analytics, Advertising      1\n",
       "686    Venture Capital  Social, Finance, Analytics, Advertising      1\n",
       "\n",
       "[687 rows x 3 columns]"
      ]
     },
     "execution_count": 42,
     "metadata": {},
     "output_type": "execute_result"
    }
   ],
   "source": [
    "main_sector"
   ]
  },
  {
   "cell_type": "code",
   "execution_count": 43,
   "metadata": {},
   "outputs": [
    {
     "name": "stderr",
     "output_type": "stream",
     "text": [
      "C:\\Users\\Tanya\\newanaconda3\\lib\\site-packages\\pandas\\core\\frame.py:3997: SettingWithCopyWarning: \n",
      "A value is trying to be set on a copy of a slice from a DataFrame\n",
      "\n",
      "See the caveats in the documentation: https://pandas.pydata.org/pandas-docs/stable/user_guide/indexing.html#returning-a-view-versus-a-copy\n",
      "  errors=errors,\n"
     ]
    }
   ],
   "source": [
    "main_sector.drop([\"value\"],axis=1,inplace=True)"
   ]
  },
  {
   "cell_type": "markdown",
   "metadata": {},
   "source": [
    "# Checkpoint 5: Sector Analysis 2"
   ]
  },
  {
   "cell_type": "code",
   "execution_count": 44,
   "metadata": {},
   "outputs": [],
   "source": [
    "m=pd.merge(main_sector,top3,on=\"category_list\")"
   ]
  },
  {
   "cell_type": "code",
   "execution_count": 45,
   "metadata": {},
   "outputs": [
    {
     "name": "stdout",
     "output_type": "stream",
     "text": [
      "<class 'pandas.core.frame.DataFrame'>\n",
      "Int64Index: 21093 entries, 0 to 21092\n",
      "Data columns (total 8 columns):\n",
      " #   Column              Non-Null Count  Dtype  \n",
      "---  ------              --------------  -----  \n",
      " 0   category_list       21093 non-null  object \n",
      " 1   main_sector         21093 non-null  object \n",
      " 2   company_permalink   21093 non-null  object \n",
      " 3   funding_round_type  21093 non-null  object \n",
      " 4   raised_amount_usd   21093 non-null  float64\n",
      " 5   name                21093 non-null  object \n",
      " 6   country_code        21093 non-null  object \n",
      " 7   Official_lang       21093 non-null  object \n",
      "dtypes: float64(1), object(7)\n",
      "memory usage: 1.4+ MB\n"
     ]
    }
   ],
   "source": [
    "m.info()"
   ]
  },
  {
   "cell_type": "markdown",
   "metadata": {},
   "source": [
    "# D1 (USA)"
   ]
  },
  {
   "cell_type": "code",
   "execution_count": 46,
   "metadata": {},
   "outputs": [],
   "source": [
    "D1=m.loc[(m[\"country_code\"]==\"USA\") & (m[\"raised_amount_usd\"]>=5000000) & (m[\"raised_amount_usd\"]<=15000000)]"
   ]
  },
  {
   "cell_type": "code",
   "execution_count": 47,
   "metadata": {},
   "outputs": [
    {
     "data": {
      "text/html": [
       "<div>\n",
       "<style scoped>\n",
       "    .dataframe tbody tr th:only-of-type {\n",
       "        vertical-align: middle;\n",
       "    }\n",
       "\n",
       "    .dataframe tbody tr th {\n",
       "        vertical-align: top;\n",
       "    }\n",
       "\n",
       "    .dataframe thead th {\n",
       "        text-align: right;\n",
       "    }\n",
       "</style>\n",
       "<table border=\"1\" class=\"dataframe\">\n",
       "  <thead>\n",
       "    <tr style=\"text-align: right;\">\n",
       "      <th></th>\n",
       "      <th>category_list</th>\n",
       "      <th>main_sector</th>\n",
       "      <th>company_permalink</th>\n",
       "      <th>funding_round_type</th>\n",
       "      <th>raised_amount_usd</th>\n",
       "      <th>name</th>\n",
       "      <th>country_code</th>\n",
       "      <th>Official_lang</th>\n",
       "    </tr>\n",
       "  </thead>\n",
       "  <tbody>\n",
       "    <tr>\n",
       "      <th>1</th>\n",
       "      <td>Aerospace</td>\n",
       "      <td>Automotive &amp; Sports</td>\n",
       "      <td>/organization/fly-blade</td>\n",
       "      <td>venture</td>\n",
       "      <td>6000000.0</td>\n",
       "      <td>Fly BLADE</td>\n",
       "      <td>USA</td>\n",
       "      <td>Yes</td>\n",
       "    </tr>\n",
       "    <tr>\n",
       "      <th>2</th>\n",
       "      <td>Aerospace</td>\n",
       "      <td>Automotive &amp; Sports</td>\n",
       "      <td>/organization/sentera</td>\n",
       "      <td>venture</td>\n",
       "      <td>5000000.0</td>\n",
       "      <td>Sentera</td>\n",
       "      <td>USA</td>\n",
       "      <td>Yes</td>\n",
       "    </tr>\n",
       "    <tr>\n",
       "      <th>4</th>\n",
       "      <td>Aerospace</td>\n",
       "      <td>Automotive &amp; Sports</td>\n",
       "      <td>/organization/spaceflight</td>\n",
       "      <td>venture</td>\n",
       "      <td>7500000.0</td>\n",
       "      <td>Spaceflight Industries</td>\n",
       "      <td>USA</td>\n",
       "      <td>Yes</td>\n",
       "    </tr>\n",
       "  </tbody>\n",
       "</table>\n",
       "</div>"
      ],
      "text/plain": [
       "  category_list          main_sector          company_permalink  \\\n",
       "1     Aerospace  Automotive & Sports    /organization/fly-blade   \n",
       "2     Aerospace  Automotive & Sports      /organization/sentera   \n",
       "4     Aerospace  Automotive & Sports  /organization/spaceflight   \n",
       "\n",
       "  funding_round_type  raised_amount_usd                    name country_code  \\\n",
       "1            venture          6000000.0               Fly BLADE          USA   \n",
       "2            venture          5000000.0                 Sentera          USA   \n",
       "4            venture          7500000.0  Spaceflight Industries          USA   \n",
       "\n",
       "  Official_lang  \n",
       "1           Yes  \n",
       "2           Yes  \n",
       "4           Yes  "
      ]
     },
     "execution_count": 47,
     "metadata": {},
     "output_type": "execute_result"
    }
   ],
   "source": [
    "D1.head(3)"
   ]
  },
  {
   "cell_type": "code",
   "execution_count": 48,
   "metadata": {},
   "outputs": [],
   "source": [
    "d=pd.DataFrame(D1.groupby(by=\"main_sector\")[\"raised_amount_usd\"].count().sort_values(ascending=False))"
   ]
  },
  {
   "cell_type": "code",
   "execution_count": 49,
   "metadata": {},
   "outputs": [],
   "source": [
    "d.rename(columns={\"raised_amount_usd\":\"total_no_of_investments\"},inplace=True)"
   ]
  },
  {
   "cell_type": "code",
   "execution_count": 50,
   "metadata": {},
   "outputs": [
    {
     "data": {
      "text/html": [
       "<div>\n",
       "<style scoped>\n",
       "    .dataframe tbody tr th:only-of-type {\n",
       "        vertical-align: middle;\n",
       "    }\n",
       "\n",
       "    .dataframe tbody tr th {\n",
       "        vertical-align: top;\n",
       "    }\n",
       "\n",
       "    .dataframe thead th {\n",
       "        text-align: right;\n",
       "    }\n",
       "</style>\n",
       "<table border=\"1\" class=\"dataframe\">\n",
       "  <thead>\n",
       "    <tr style=\"text-align: right;\">\n",
       "      <th></th>\n",
       "      <th>total_no_of_investments</th>\n",
       "    </tr>\n",
       "    <tr>\n",
       "      <th>main_sector</th>\n",
       "      <th></th>\n",
       "    </tr>\n",
       "  </thead>\n",
       "  <tbody>\n",
       "    <tr>\n",
       "      <th>Others</th>\n",
       "      <td>2071</td>\n",
       "    </tr>\n",
       "    <tr>\n",
       "      <th>Cleantech / Semiconductors</th>\n",
       "      <td>1738</td>\n",
       "    </tr>\n",
       "    <tr>\n",
       "      <th>Health</th>\n",
       "      <td>601</td>\n",
       "    </tr>\n",
       "    <tr>\n",
       "      <th>News, Search and Messaging</th>\n",
       "      <td>552</td>\n",
       "    </tr>\n",
       "    <tr>\n",
       "      <th>Social, Finance, Analytics, Advertising</th>\n",
       "      <td>528</td>\n",
       "    </tr>\n",
       "    <tr>\n",
       "      <th>Manufacturing</th>\n",
       "      <td>411</td>\n",
       "    </tr>\n",
       "    <tr>\n",
       "      <th>Entertainment</th>\n",
       "      <td>198</td>\n",
       "    </tr>\n",
       "    <tr>\n",
       "      <th>Automotive &amp; Sports</th>\n",
       "      <td>40</td>\n",
       "    </tr>\n",
       "  </tbody>\n",
       "</table>\n",
       "</div>"
      ],
      "text/plain": [
       "                                         total_no_of_investments\n",
       "main_sector                                                     \n",
       "Others                                                      2071\n",
       "Cleantech / Semiconductors                                  1738\n",
       "Health                                                       601\n",
       "News, Search and Messaging                                   552\n",
       "Social, Finance, Analytics, Advertising                      528\n",
       "Manufacturing                                                411\n",
       "Entertainment                                                198\n",
       "Automotive & Sports                                           40"
      ]
     },
     "execution_count": 50,
     "metadata": {},
     "output_type": "execute_result"
    }
   ],
   "source": [
    "d"
   ]
  },
  {
   "cell_type": "code",
   "execution_count": 51,
   "metadata": {},
   "outputs": [],
   "source": [
    "s=pd.DataFrame(D1.groupby(by=\"main_sector\")[\"raised_amount_usd\"].sum().sort_values(ascending=False).apply(lambda x:\"{:.2f}\".format(x)))"
   ]
  },
  {
   "cell_type": "code",
   "execution_count": 52,
   "metadata": {},
   "outputs": [],
   "source": [
    "s.rename(columns={\"raised_amount_usd\":\"total_amount_invested\"},inplace=True)"
   ]
  },
  {
   "cell_type": "code",
   "execution_count": 53,
   "metadata": {
    "scrolled": true
   },
   "outputs": [
    {
     "data": {
      "text/html": [
       "<div>\n",
       "<style scoped>\n",
       "    .dataframe tbody tr th:only-of-type {\n",
       "        vertical-align: middle;\n",
       "    }\n",
       "\n",
       "    .dataframe tbody tr th {\n",
       "        vertical-align: top;\n",
       "    }\n",
       "\n",
       "    .dataframe thead th {\n",
       "        text-align: right;\n",
       "    }\n",
       "</style>\n",
       "<table border=\"1\" class=\"dataframe\">\n",
       "  <thead>\n",
       "    <tr style=\"text-align: right;\">\n",
       "      <th></th>\n",
       "      <th>total_amount_invested</th>\n",
       "    </tr>\n",
       "    <tr>\n",
       "      <th>main_sector</th>\n",
       "      <th></th>\n",
       "    </tr>\n",
       "  </thead>\n",
       "  <tbody>\n",
       "    <tr>\n",
       "      <th>Others</th>\n",
       "      <td>18506811462.00</td>\n",
       "    </tr>\n",
       "    <tr>\n",
       "      <th>Cleantech / Semiconductors</th>\n",
       "      <td>15955987578.00</td>\n",
       "    </tr>\n",
       "    <tr>\n",
       "      <th>Health</th>\n",
       "      <td>5405749916.00</td>\n",
       "    </tr>\n",
       "    <tr>\n",
       "      <th>News, Search and Messaging</th>\n",
       "      <td>4770547632.00</td>\n",
       "    </tr>\n",
       "    <tr>\n",
       "      <th>Social, Finance, Analytics, Advertising</th>\n",
       "      <td>4514591379.00</td>\n",
       "    </tr>\n",
       "    <tr>\n",
       "      <th>Manufacturing</th>\n",
       "      <td>3758864507.00</td>\n",
       "    </tr>\n",
       "    <tr>\n",
       "      <th>Entertainment</th>\n",
       "      <td>1702119994.00</td>\n",
       "    </tr>\n",
       "    <tr>\n",
       "      <th>Automotive &amp; Sports</th>\n",
       "      <td>311202844.00</td>\n",
       "    </tr>\n",
       "  </tbody>\n",
       "</table>\n",
       "</div>"
      ],
      "text/plain": [
       "                                        total_amount_invested\n",
       "main_sector                                                  \n",
       "Others                                         18506811462.00\n",
       "Cleantech / Semiconductors                     15955987578.00\n",
       "Health                                          5405749916.00\n",
       "News, Search and Messaging                      4770547632.00\n",
       "Social, Finance, Analytics, Advertising         4514591379.00\n",
       "Manufacturing                                   3758864507.00\n",
       "Entertainment                                   1702119994.00\n",
       "Automotive & Sports                              311202844.00"
      ]
     },
     "execution_count": 53,
     "metadata": {},
     "output_type": "execute_result"
    }
   ],
   "source": [
    "s"
   ]
  },
  {
   "cell_type": "markdown",
   "metadata": {},
   "source": [
    "Merging the columns"
   ]
  },
  {
   "cell_type": "code",
   "execution_count": 54,
   "metadata": {},
   "outputs": [],
   "source": [
    "D1=pd.merge(D1,d,on=\"main_sector\")\n",
    "D1=pd.merge(D1,s,on=\"main_sector\")"
   ]
  },
  {
   "cell_type": "code",
   "execution_count": 55,
   "metadata": {
    "scrolled": true
   },
   "outputs": [
    {
     "data": {
      "text/html": [
       "<div>\n",
       "<style scoped>\n",
       "    .dataframe tbody tr th:only-of-type {\n",
       "        vertical-align: middle;\n",
       "    }\n",
       "\n",
       "    .dataframe tbody tr th {\n",
       "        vertical-align: top;\n",
       "    }\n",
       "\n",
       "    .dataframe thead th {\n",
       "        text-align: right;\n",
       "    }\n",
       "</style>\n",
       "<table border=\"1\" class=\"dataframe\">\n",
       "  <thead>\n",
       "    <tr style=\"text-align: right;\">\n",
       "      <th></th>\n",
       "      <th>category_list</th>\n",
       "      <th>main_sector</th>\n",
       "      <th>company_permalink</th>\n",
       "      <th>funding_round_type</th>\n",
       "      <th>raised_amount_usd</th>\n",
       "      <th>name</th>\n",
       "      <th>country_code</th>\n",
       "      <th>Official_lang</th>\n",
       "      <th>total_no_of_investments</th>\n",
       "      <th>total_amount_invested</th>\n",
       "    </tr>\n",
       "  </thead>\n",
       "  <tbody>\n",
       "    <tr>\n",
       "      <th>0</th>\n",
       "      <td>Aerospace</td>\n",
       "      <td>Automotive &amp; Sports</td>\n",
       "      <td>/organization/fly-blade</td>\n",
       "      <td>venture</td>\n",
       "      <td>6000000.0</td>\n",
       "      <td>Fly BLADE</td>\n",
       "      <td>USA</td>\n",
       "      <td>Yes</td>\n",
       "      <td>40</td>\n",
       "      <td>311202844.00</td>\n",
       "    </tr>\n",
       "    <tr>\n",
       "      <th>1</th>\n",
       "      <td>Aerospace</td>\n",
       "      <td>Automotive &amp; Sports</td>\n",
       "      <td>/organization/sentera</td>\n",
       "      <td>venture</td>\n",
       "      <td>5000000.0</td>\n",
       "      <td>Sentera</td>\n",
       "      <td>USA</td>\n",
       "      <td>Yes</td>\n",
       "      <td>40</td>\n",
       "      <td>311202844.00</td>\n",
       "    </tr>\n",
       "    <tr>\n",
       "      <th>2</th>\n",
       "      <td>Aerospace</td>\n",
       "      <td>Automotive &amp; Sports</td>\n",
       "      <td>/organization/spaceflight</td>\n",
       "      <td>venture</td>\n",
       "      <td>7500000.0</td>\n",
       "      <td>Spaceflight Industries</td>\n",
       "      <td>USA</td>\n",
       "      <td>Yes</td>\n",
       "      <td>40</td>\n",
       "      <td>311202844.00</td>\n",
       "    </tr>\n",
       "  </tbody>\n",
       "</table>\n",
       "</div>"
      ],
      "text/plain": [
       "  category_list          main_sector          company_permalink  \\\n",
       "0     Aerospace  Automotive & Sports    /organization/fly-blade   \n",
       "1     Aerospace  Automotive & Sports      /organization/sentera   \n",
       "2     Aerospace  Automotive & Sports  /organization/spaceflight   \n",
       "\n",
       "  funding_round_type  raised_amount_usd                    name country_code  \\\n",
       "0            venture          6000000.0               Fly BLADE          USA   \n",
       "1            venture          5000000.0                 Sentera          USA   \n",
       "2            venture          7500000.0  Spaceflight Industries          USA   \n",
       "\n",
       "  Official_lang  total_no_of_investments total_amount_invested  \n",
       "0           Yes                       40          311202844.00  \n",
       "1           Yes                       40          311202844.00  \n",
       "2           Yes                       40          311202844.00  "
      ]
     },
     "execution_count": 55,
     "metadata": {},
     "output_type": "execute_result"
    }
   ],
   "source": [
    "D1.head(3)"
   ]
  },
  {
   "cell_type": "markdown",
   "metadata": {},
   "source": [
    "# D2 (GBR)"
   ]
  },
  {
   "cell_type": "code",
   "execution_count": 56,
   "metadata": {},
   "outputs": [],
   "source": [
    "D2=m.loc[(m[\"country_code\"]==\"GBR\") & (m[\"raised_amount_usd\"]>=5000000) & (m[\"raised_amount_usd\"]<=15000000)]"
   ]
  },
  {
   "cell_type": "code",
   "execution_count": 57,
   "metadata": {},
   "outputs": [
    {
     "data": {
      "text/html": [
       "<div>\n",
       "<style scoped>\n",
       "    .dataframe tbody tr th:only-of-type {\n",
       "        vertical-align: middle;\n",
       "    }\n",
       "\n",
       "    .dataframe tbody tr th {\n",
       "        vertical-align: top;\n",
       "    }\n",
       "\n",
       "    .dataframe thead th {\n",
       "        text-align: right;\n",
       "    }\n",
       "</style>\n",
       "<table border=\"1\" class=\"dataframe\">\n",
       "  <thead>\n",
       "    <tr style=\"text-align: right;\">\n",
       "      <th></th>\n",
       "      <th>category_list</th>\n",
       "      <th>main_sector</th>\n",
       "      <th>company_permalink</th>\n",
       "      <th>funding_round_type</th>\n",
       "      <th>raised_amount_usd</th>\n",
       "      <th>name</th>\n",
       "      <th>country_code</th>\n",
       "      <th>Official_lang</th>\n",
       "    </tr>\n",
       "  </thead>\n",
       "  <tbody>\n",
       "    <tr>\n",
       "      <th>56</th>\n",
       "      <td>Automotive</td>\n",
       "      <td>Automotive &amp; Sports</td>\n",
       "      <td>/organization/prodrive</td>\n",
       "      <td>venture</td>\n",
       "      <td>9345794.0</td>\n",
       "      <td>Prodrive</td>\n",
       "      <td>GBR</td>\n",
       "      <td>Yes</td>\n",
       "    </tr>\n",
       "    <tr>\n",
       "      <th>59</th>\n",
       "      <td>Automotive</td>\n",
       "      <td>Automotive &amp; Sports</td>\n",
       "      <td>/organization/streetcar</td>\n",
       "      <td>venture</td>\n",
       "      <td>12430126.0</td>\n",
       "      <td>Streetcar</td>\n",
       "      <td>GBR</td>\n",
       "      <td>Yes</td>\n",
       "    </tr>\n",
       "    <tr>\n",
       "      <th>63</th>\n",
       "      <td>Automotive</td>\n",
       "      <td>Automotive &amp; Sports</td>\n",
       "      <td>/organization/yasa-motors</td>\n",
       "      <td>venture</td>\n",
       "      <td>7576257.0</td>\n",
       "      <td>YASA Motors</td>\n",
       "      <td>GBR</td>\n",
       "      <td>Yes</td>\n",
       "    </tr>\n",
       "  </tbody>\n",
       "</table>\n",
       "</div>"
      ],
      "text/plain": [
       "   category_list          main_sector          company_permalink  \\\n",
       "56    Automotive  Automotive & Sports     /organization/prodrive   \n",
       "59    Automotive  Automotive & Sports    /organization/streetcar   \n",
       "63    Automotive  Automotive & Sports  /organization/yasa-motors   \n",
       "\n",
       "   funding_round_type  raised_amount_usd         name country_code  \\\n",
       "56            venture          9345794.0     Prodrive          GBR   \n",
       "59            venture         12430126.0    Streetcar          GBR   \n",
       "63            venture          7576257.0  YASA Motors          GBR   \n",
       "\n",
       "   Official_lang  \n",
       "56           Yes  \n",
       "59           Yes  \n",
       "63           Yes  "
      ]
     },
     "execution_count": 57,
     "metadata": {},
     "output_type": "execute_result"
    }
   ],
   "source": [
    "D2.head(3)"
   ]
  },
  {
   "cell_type": "code",
   "execution_count": 58,
   "metadata": {},
   "outputs": [],
   "source": [
    "d2=pd.DataFrame(D2.groupby(by=\"main_sector\")[\"raised_amount_usd\"].count().sort_values(ascending=False))"
   ]
  },
  {
   "cell_type": "code",
   "execution_count": 59,
   "metadata": {},
   "outputs": [],
   "source": [
    "d2.rename(columns={\"raised_amount_usd\":\"total_no_of_investments\"},inplace=True)"
   ]
  },
  {
   "cell_type": "code",
   "execution_count": 60,
   "metadata": {},
   "outputs": [
    {
     "data": {
      "text/html": [
       "<div>\n",
       "<style scoped>\n",
       "    .dataframe tbody tr th:only-of-type {\n",
       "        vertical-align: middle;\n",
       "    }\n",
       "\n",
       "    .dataframe tbody tr th {\n",
       "        vertical-align: top;\n",
       "    }\n",
       "\n",
       "    .dataframe thead th {\n",
       "        text-align: right;\n",
       "    }\n",
       "</style>\n",
       "<table border=\"1\" class=\"dataframe\">\n",
       "  <thead>\n",
       "    <tr style=\"text-align: right;\">\n",
       "      <th></th>\n",
       "      <th>total_no_of_investments</th>\n",
       "    </tr>\n",
       "    <tr>\n",
       "      <th>main_sector</th>\n",
       "      <th></th>\n",
       "    </tr>\n",
       "  </thead>\n",
       "  <tbody>\n",
       "    <tr>\n",
       "      <th>Cleantech / Semiconductors</th>\n",
       "      <td>107</td>\n",
       "    </tr>\n",
       "    <tr>\n",
       "      <th>Others</th>\n",
       "      <td>106</td>\n",
       "    </tr>\n",
       "    <tr>\n",
       "      <th>News, Search and Messaging</th>\n",
       "      <td>31</td>\n",
       "    </tr>\n",
       "    <tr>\n",
       "      <th>Manufacturing</th>\n",
       "      <td>29</td>\n",
       "    </tr>\n",
       "    <tr>\n",
       "      <th>Entertainment</th>\n",
       "      <td>29</td>\n",
       "    </tr>\n",
       "    <tr>\n",
       "      <th>Social, Finance, Analytics, Advertising</th>\n",
       "      <td>24</td>\n",
       "    </tr>\n",
       "    <tr>\n",
       "      <th>Health</th>\n",
       "      <td>13</td>\n",
       "    </tr>\n",
       "    <tr>\n",
       "      <th>Automotive &amp; Sports</th>\n",
       "      <td>3</td>\n",
       "    </tr>\n",
       "  </tbody>\n",
       "</table>\n",
       "</div>"
      ],
      "text/plain": [
       "                                         total_no_of_investments\n",
       "main_sector                                                     \n",
       "Cleantech / Semiconductors                                   107\n",
       "Others                                                       106\n",
       "News, Search and Messaging                                    31\n",
       "Manufacturing                                                 29\n",
       "Entertainment                                                 29\n",
       "Social, Finance, Analytics, Advertising                       24\n",
       "Health                                                        13\n",
       "Automotive & Sports                                            3"
      ]
     },
     "execution_count": 60,
     "metadata": {},
     "output_type": "execute_result"
    }
   ],
   "source": [
    "d2"
   ]
  },
  {
   "cell_type": "code",
   "execution_count": 61,
   "metadata": {},
   "outputs": [],
   "source": [
    "s2=pd.DataFrame(D2.groupby(by=\"main_sector\")[\"raised_amount_usd\"].sum().sort_values(ascending=False))"
   ]
  },
  {
   "cell_type": "code",
   "execution_count": 62,
   "metadata": {},
   "outputs": [],
   "source": [
    "s2.rename(columns={\"raised_amount_usd\":\"total_amount_invested\"},inplace=True)"
   ]
  },
  {
   "cell_type": "code",
   "execution_count": 63,
   "metadata": {},
   "outputs": [
    {
     "data": {
      "text/html": [
       "<div>\n",
       "<style scoped>\n",
       "    .dataframe tbody tr th:only-of-type {\n",
       "        vertical-align: middle;\n",
       "    }\n",
       "\n",
       "    .dataframe tbody tr th {\n",
       "        vertical-align: top;\n",
       "    }\n",
       "\n",
       "    .dataframe thead th {\n",
       "        text-align: right;\n",
       "    }\n",
       "</style>\n",
       "<table border=\"1\" class=\"dataframe\">\n",
       "  <thead>\n",
       "    <tr style=\"text-align: right;\">\n",
       "      <th></th>\n",
       "      <th>total_amount_invested</th>\n",
       "    </tr>\n",
       "    <tr>\n",
       "      <th>main_sector</th>\n",
       "      <th></th>\n",
       "    </tr>\n",
       "  </thead>\n",
       "  <tbody>\n",
       "    <tr>\n",
       "      <th>Cleantech / Semiconductors</th>\n",
       "      <td>942829246.0</td>\n",
       "    </tr>\n",
       "    <tr>\n",
       "      <th>Others</th>\n",
       "      <td>931205523.0</td>\n",
       "    </tr>\n",
       "    <tr>\n",
       "      <th>News, Search and Messaging</th>\n",
       "      <td>274140008.0</td>\n",
       "    </tr>\n",
       "    <tr>\n",
       "      <th>Entertainment</th>\n",
       "      <td>260004421.0</td>\n",
       "    </tr>\n",
       "    <tr>\n",
       "      <th>Manufacturing</th>\n",
       "      <td>257049312.0</td>\n",
       "    </tr>\n",
       "    <tr>\n",
       "      <th>Social, Finance, Analytics, Advertising</th>\n",
       "      <td>205607606.0</td>\n",
       "    </tr>\n",
       "    <tr>\n",
       "      <th>Health</th>\n",
       "      <td>112740187.0</td>\n",
       "    </tr>\n",
       "    <tr>\n",
       "      <th>Automotive &amp; Sports</th>\n",
       "      <td>29352177.0</td>\n",
       "    </tr>\n",
       "  </tbody>\n",
       "</table>\n",
       "</div>"
      ],
      "text/plain": [
       "                                         total_amount_invested\n",
       "main_sector                                                   \n",
       "Cleantech / Semiconductors                         942829246.0\n",
       "Others                                             931205523.0\n",
       "News, Search and Messaging                         274140008.0\n",
       "Entertainment                                      260004421.0\n",
       "Manufacturing                                      257049312.0\n",
       "Social, Finance, Analytics, Advertising            205607606.0\n",
       "Health                                             112740187.0\n",
       "Automotive & Sports                                 29352177.0"
      ]
     },
     "execution_count": 63,
     "metadata": {},
     "output_type": "execute_result"
    }
   ],
   "source": [
    "s2"
   ]
  },
  {
   "cell_type": "markdown",
   "metadata": {},
   "source": [
    "Merging the columns"
   ]
  },
  {
   "cell_type": "code",
   "execution_count": 64,
   "metadata": {},
   "outputs": [],
   "source": [
    "D2=pd.merge(D2,d2,on=\"main_sector\")\n",
    "D2=pd.merge(D2,s2,on=\"main_sector\")"
   ]
  },
  {
   "cell_type": "code",
   "execution_count": 65,
   "metadata": {
    "scrolled": true
   },
   "outputs": [
    {
     "data": {
      "text/html": [
       "<div>\n",
       "<style scoped>\n",
       "    .dataframe tbody tr th:only-of-type {\n",
       "        vertical-align: middle;\n",
       "    }\n",
       "\n",
       "    .dataframe tbody tr th {\n",
       "        vertical-align: top;\n",
       "    }\n",
       "\n",
       "    .dataframe thead th {\n",
       "        text-align: right;\n",
       "    }\n",
       "</style>\n",
       "<table border=\"1\" class=\"dataframe\">\n",
       "  <thead>\n",
       "    <tr style=\"text-align: right;\">\n",
       "      <th></th>\n",
       "      <th>category_list</th>\n",
       "      <th>main_sector</th>\n",
       "      <th>company_permalink</th>\n",
       "      <th>funding_round_type</th>\n",
       "      <th>raised_amount_usd</th>\n",
       "      <th>name</th>\n",
       "      <th>country_code</th>\n",
       "      <th>Official_lang</th>\n",
       "      <th>total_no_of_investments</th>\n",
       "      <th>total_amount_invested</th>\n",
       "    </tr>\n",
       "  </thead>\n",
       "  <tbody>\n",
       "    <tr>\n",
       "      <th>0</th>\n",
       "      <td>Automotive</td>\n",
       "      <td>Automotive &amp; Sports</td>\n",
       "      <td>/organization/prodrive</td>\n",
       "      <td>venture</td>\n",
       "      <td>9345794.0</td>\n",
       "      <td>Prodrive</td>\n",
       "      <td>GBR</td>\n",
       "      <td>Yes</td>\n",
       "      <td>3</td>\n",
       "      <td>29352177.0</td>\n",
       "    </tr>\n",
       "    <tr>\n",
       "      <th>1</th>\n",
       "      <td>Automotive</td>\n",
       "      <td>Automotive &amp; Sports</td>\n",
       "      <td>/organization/streetcar</td>\n",
       "      <td>venture</td>\n",
       "      <td>12430126.0</td>\n",
       "      <td>Streetcar</td>\n",
       "      <td>GBR</td>\n",
       "      <td>Yes</td>\n",
       "      <td>3</td>\n",
       "      <td>29352177.0</td>\n",
       "    </tr>\n",
       "    <tr>\n",
       "      <th>2</th>\n",
       "      <td>Automotive</td>\n",
       "      <td>Automotive &amp; Sports</td>\n",
       "      <td>/organization/yasa-motors</td>\n",
       "      <td>venture</td>\n",
       "      <td>7576257.0</td>\n",
       "      <td>YASA Motors</td>\n",
       "      <td>GBR</td>\n",
       "      <td>Yes</td>\n",
       "      <td>3</td>\n",
       "      <td>29352177.0</td>\n",
       "    </tr>\n",
       "  </tbody>\n",
       "</table>\n",
       "</div>"
      ],
      "text/plain": [
       "  category_list          main_sector          company_permalink  \\\n",
       "0    Automotive  Automotive & Sports     /organization/prodrive   \n",
       "1    Automotive  Automotive & Sports    /organization/streetcar   \n",
       "2    Automotive  Automotive & Sports  /organization/yasa-motors   \n",
       "\n",
       "  funding_round_type  raised_amount_usd         name country_code  \\\n",
       "0            venture          9345794.0     Prodrive          GBR   \n",
       "1            venture         12430126.0    Streetcar          GBR   \n",
       "2            venture          7576257.0  YASA Motors          GBR   \n",
       "\n",
       "  Official_lang  total_no_of_investments  total_amount_invested  \n",
       "0           Yes                        3             29352177.0  \n",
       "1           Yes                        3             29352177.0  \n",
       "2           Yes                        3             29352177.0  "
      ]
     },
     "execution_count": 65,
     "metadata": {},
     "output_type": "execute_result"
    }
   ],
   "source": [
    "D2.head(3)"
   ]
  },
  {
   "cell_type": "markdown",
   "metadata": {},
   "source": [
    "# D3 (IND)"
   ]
  },
  {
   "cell_type": "code",
   "execution_count": 66,
   "metadata": {},
   "outputs": [],
   "source": [
    "D3=m.loc[(m[\"country_code\"]==\"IND\") & (m[\"raised_amount_usd\"]>=5000000) & (m[\"raised_amount_usd\"]<=15000000)]"
   ]
  },
  {
   "cell_type": "code",
   "execution_count": 67,
   "metadata": {},
   "outputs": [
    {
     "data": {
      "text/html": [
       "<div>\n",
       "<style scoped>\n",
       "    .dataframe tbody tr th:only-of-type {\n",
       "        vertical-align: middle;\n",
       "    }\n",
       "\n",
       "    .dataframe tbody tr th {\n",
       "        vertical-align: top;\n",
       "    }\n",
       "\n",
       "    .dataframe thead th {\n",
       "        text-align: right;\n",
       "    }\n",
       "</style>\n",
       "<table border=\"1\" class=\"dataframe\">\n",
       "  <thead>\n",
       "    <tr style=\"text-align: right;\">\n",
       "      <th></th>\n",
       "      <th>category_list</th>\n",
       "      <th>main_sector</th>\n",
       "      <th>company_permalink</th>\n",
       "      <th>funding_round_type</th>\n",
       "      <th>raised_amount_usd</th>\n",
       "      <th>name</th>\n",
       "      <th>country_code</th>\n",
       "      <th>Official_lang</th>\n",
       "    </tr>\n",
       "  </thead>\n",
       "  <tbody>\n",
       "    <tr>\n",
       "      <th>5</th>\n",
       "      <td>Automotive</td>\n",
       "      <td>Automotive &amp; Sports</td>\n",
       "      <td>/organization/incredible-technologies-pvt-ltd</td>\n",
       "      <td>venture</td>\n",
       "      <td>15000000.0</td>\n",
       "      <td>Incredible Technologies (CredR)</td>\n",
       "      <td>IND</td>\n",
       "      <td>No</td>\n",
       "    </tr>\n",
       "    <tr>\n",
       "      <th>69</th>\n",
       "      <td>Design</td>\n",
       "      <td>Automotive &amp; Sports</td>\n",
       "      <td>/organization/tonbo-imaging</td>\n",
       "      <td>venture</td>\n",
       "      <td>6400000.0</td>\n",
       "      <td>Tonbo Imaging</td>\n",
       "      <td>IND</td>\n",
       "      <td>No</td>\n",
       "    </tr>\n",
       "    <tr>\n",
       "      <th>191</th>\n",
       "      <td>Biotechnology</td>\n",
       "      <td>Cleantech / Semiconductors</td>\n",
       "      <td>/organization/avesthagen</td>\n",
       "      <td>venture</td>\n",
       "      <td>5530000.0</td>\n",
       "      <td>Avesthagen</td>\n",
       "      <td>IND</td>\n",
       "      <td>No</td>\n",
       "    </tr>\n",
       "  </tbody>\n",
       "</table>\n",
       "</div>"
      ],
      "text/plain": [
       "     category_list                 main_sector  \\\n",
       "5       Automotive         Automotive & Sports   \n",
       "69          Design         Automotive & Sports   \n",
       "191  Biotechnology  Cleantech / Semiconductors   \n",
       "\n",
       "                                 company_permalink funding_round_type  \\\n",
       "5    /organization/incredible-technologies-pvt-ltd            venture   \n",
       "69                     /organization/tonbo-imaging            venture   \n",
       "191                       /organization/avesthagen            venture   \n",
       "\n",
       "     raised_amount_usd                             name country_code  \\\n",
       "5           15000000.0  Incredible Technologies (CredR)          IND   \n",
       "69           6400000.0                    Tonbo Imaging          IND   \n",
       "191          5530000.0                       Avesthagen          IND   \n",
       "\n",
       "    Official_lang  \n",
       "5              No  \n",
       "69             No  \n",
       "191            No  "
      ]
     },
     "execution_count": 67,
     "metadata": {},
     "output_type": "execute_result"
    }
   ],
   "source": [
    "D3.head(3)"
   ]
  },
  {
   "cell_type": "code",
   "execution_count": 68,
   "metadata": {},
   "outputs": [
    {
     "name": "stdout",
     "output_type": "stream",
     "text": [
      "<class 'pandas.core.frame.DataFrame'>\n",
      "Int64Index: 186 entries, 5 to 20962\n",
      "Data columns (total 8 columns):\n",
      " #   Column              Non-Null Count  Dtype  \n",
      "---  ------              --------------  -----  \n",
      " 0   category_list       186 non-null    object \n",
      " 1   main_sector         186 non-null    object \n",
      " 2   company_permalink   186 non-null    object \n",
      " 3   funding_round_type  186 non-null    object \n",
      " 4   raised_amount_usd   186 non-null    float64\n",
      " 5   name                186 non-null    object \n",
      " 6   country_code        186 non-null    object \n",
      " 7   Official_lang       186 non-null    object \n",
      "dtypes: float64(1), object(7)\n",
      "memory usage: 13.1+ KB\n"
     ]
    }
   ],
   "source": [
    "D3.info()"
   ]
  },
  {
   "cell_type": "code",
   "execution_count": 69,
   "metadata": {},
   "outputs": [],
   "source": [
    "d3=pd.DataFrame(D3.groupby(by=\"main_sector\")[\"raised_amount_usd\"].count().sort_values(ascending=False))"
   ]
  },
  {
   "cell_type": "code",
   "execution_count": 70,
   "metadata": {},
   "outputs": [],
   "source": [
    "d3.rename(columns={\"raised_amount_usd\":\"total_no_of_investments\"},inplace=True)"
   ]
  },
  {
   "cell_type": "code",
   "execution_count": 71,
   "metadata": {},
   "outputs": [
    {
     "data": {
      "text/html": [
       "<div>\n",
       "<style scoped>\n",
       "    .dataframe tbody tr th:only-of-type {\n",
       "        vertical-align: middle;\n",
       "    }\n",
       "\n",
       "    .dataframe tbody tr th {\n",
       "        vertical-align: top;\n",
       "    }\n",
       "\n",
       "    .dataframe thead th {\n",
       "        text-align: right;\n",
       "    }\n",
       "</style>\n",
       "<table border=\"1\" class=\"dataframe\">\n",
       "  <thead>\n",
       "    <tr style=\"text-align: right;\">\n",
       "      <th></th>\n",
       "      <th>total_no_of_investments</th>\n",
       "    </tr>\n",
       "    <tr>\n",
       "      <th>main_sector</th>\n",
       "      <th></th>\n",
       "    </tr>\n",
       "  </thead>\n",
       "  <tbody>\n",
       "    <tr>\n",
       "      <th>Others</th>\n",
       "      <td>74</td>\n",
       "    </tr>\n",
       "    <tr>\n",
       "      <th>News, Search and Messaging</th>\n",
       "      <td>31</td>\n",
       "    </tr>\n",
       "    <tr>\n",
       "      <th>Social, Finance, Analytics, Advertising</th>\n",
       "      <td>22</td>\n",
       "    </tr>\n",
       "    <tr>\n",
       "      <th>Entertainment</th>\n",
       "      <td>19</td>\n",
       "    </tr>\n",
       "    <tr>\n",
       "      <th>Cleantech / Semiconductors</th>\n",
       "      <td>14</td>\n",
       "    </tr>\n",
       "    <tr>\n",
       "      <th>Health</th>\n",
       "      <td>13</td>\n",
       "    </tr>\n",
       "    <tr>\n",
       "      <th>Manufacturing</th>\n",
       "      <td>11</td>\n",
       "    </tr>\n",
       "    <tr>\n",
       "      <th>Automotive &amp; Sports</th>\n",
       "      <td>2</td>\n",
       "    </tr>\n",
       "  </tbody>\n",
       "</table>\n",
       "</div>"
      ],
      "text/plain": [
       "                                         total_no_of_investments\n",
       "main_sector                                                     \n",
       "Others                                                        74\n",
       "News, Search and Messaging                                    31\n",
       "Social, Finance, Analytics, Advertising                       22\n",
       "Entertainment                                                 19\n",
       "Cleantech / Semiconductors                                    14\n",
       "Health                                                        13\n",
       "Manufacturing                                                 11\n",
       "Automotive & Sports                                            2"
      ]
     },
     "execution_count": 71,
     "metadata": {},
     "output_type": "execute_result"
    }
   ],
   "source": [
    "d3"
   ]
  },
  {
   "cell_type": "code",
   "execution_count": 72,
   "metadata": {},
   "outputs": [],
   "source": [
    "s3=pd.DataFrame(D3.groupby(by=\"main_sector\")[\"raised_amount_usd\"].sum().sort_values(ascending=False))"
   ]
  },
  {
   "cell_type": "code",
   "execution_count": 73,
   "metadata": {},
   "outputs": [],
   "source": [
    "s3.rename(columns={\"raised_amount_usd\":\"total_amount_invested\"},inplace=True)"
   ]
  },
  {
   "cell_type": "code",
   "execution_count": 74,
   "metadata": {},
   "outputs": [
    {
     "data": {
      "text/html": [
       "<div>\n",
       "<style scoped>\n",
       "    .dataframe tbody tr th:only-of-type {\n",
       "        vertical-align: middle;\n",
       "    }\n",
       "\n",
       "    .dataframe tbody tr th {\n",
       "        vertical-align: top;\n",
       "    }\n",
       "\n",
       "    .dataframe thead th {\n",
       "        text-align: right;\n",
       "    }\n",
       "</style>\n",
       "<table border=\"1\" class=\"dataframe\">\n",
       "  <thead>\n",
       "    <tr style=\"text-align: right;\">\n",
       "      <th></th>\n",
       "      <th>total_amount_invested</th>\n",
       "    </tr>\n",
       "    <tr>\n",
       "      <th>main_sector</th>\n",
       "      <th></th>\n",
       "    </tr>\n",
       "  </thead>\n",
       "  <tbody>\n",
       "    <tr>\n",
       "      <th>Others</th>\n",
       "      <td>675169507.0</td>\n",
       "    </tr>\n",
       "    <tr>\n",
       "      <th>News, Search and Messaging</th>\n",
       "      <td>267118770.0</td>\n",
       "    </tr>\n",
       "    <tr>\n",
       "      <th>Social, Finance, Analytics, Advertising</th>\n",
       "      <td>183606050.0</td>\n",
       "    </tr>\n",
       "    <tr>\n",
       "      <th>Entertainment</th>\n",
       "      <td>156150000.0</td>\n",
       "    </tr>\n",
       "    <tr>\n",
       "      <th>Health</th>\n",
       "      <td>114540000.0</td>\n",
       "    </tr>\n",
       "    <tr>\n",
       "      <th>Manufacturing</th>\n",
       "      <td>106700000.0</td>\n",
       "    </tr>\n",
       "    <tr>\n",
       "      <th>Cleantech / Semiconductors</th>\n",
       "      <td>105180000.0</td>\n",
       "    </tr>\n",
       "    <tr>\n",
       "      <th>Automotive &amp; Sports</th>\n",
       "      <td>21400000.0</td>\n",
       "    </tr>\n",
       "  </tbody>\n",
       "</table>\n",
       "</div>"
      ],
      "text/plain": [
       "                                         total_amount_invested\n",
       "main_sector                                                   \n",
       "Others                                             675169507.0\n",
       "News, Search and Messaging                         267118770.0\n",
       "Social, Finance, Analytics, Advertising            183606050.0\n",
       "Entertainment                                      156150000.0\n",
       "Health                                             114540000.0\n",
       "Manufacturing                                      106700000.0\n",
       "Cleantech / Semiconductors                         105180000.0\n",
       "Automotive & Sports                                 21400000.0"
      ]
     },
     "execution_count": 74,
     "metadata": {},
     "output_type": "execute_result"
    }
   ],
   "source": [
    "s3"
   ]
  },
  {
   "cell_type": "markdown",
   "metadata": {},
   "source": [
    "Merging the columns"
   ]
  },
  {
   "cell_type": "code",
   "execution_count": 75,
   "metadata": {},
   "outputs": [],
   "source": [
    "D3=pd.merge(D3,d3,on=\"main_sector\")\n",
    "D3=pd.merge(D3,s3,on=\"main_sector\")"
   ]
  },
  {
   "cell_type": "code",
   "execution_count": 76,
   "metadata": {
    "scrolled": true
   },
   "outputs": [
    {
     "data": {
      "text/html": [
       "<div>\n",
       "<style scoped>\n",
       "    .dataframe tbody tr th:only-of-type {\n",
       "        vertical-align: middle;\n",
       "    }\n",
       "\n",
       "    .dataframe tbody tr th {\n",
       "        vertical-align: top;\n",
       "    }\n",
       "\n",
       "    .dataframe thead th {\n",
       "        text-align: right;\n",
       "    }\n",
       "</style>\n",
       "<table border=\"1\" class=\"dataframe\">\n",
       "  <thead>\n",
       "    <tr style=\"text-align: right;\">\n",
       "      <th></th>\n",
       "      <th>category_list</th>\n",
       "      <th>main_sector</th>\n",
       "      <th>company_permalink</th>\n",
       "      <th>funding_round_type</th>\n",
       "      <th>raised_amount_usd</th>\n",
       "      <th>name</th>\n",
       "      <th>country_code</th>\n",
       "      <th>Official_lang</th>\n",
       "      <th>total_no_of_investments</th>\n",
       "      <th>total_amount_invested</th>\n",
       "    </tr>\n",
       "  </thead>\n",
       "  <tbody>\n",
       "    <tr>\n",
       "      <th>0</th>\n",
       "      <td>Automotive</td>\n",
       "      <td>Automotive &amp; Sports</td>\n",
       "      <td>/organization/incredible-technologies-pvt-ltd</td>\n",
       "      <td>venture</td>\n",
       "      <td>15000000.0</td>\n",
       "      <td>Incredible Technologies (CredR)</td>\n",
       "      <td>IND</td>\n",
       "      <td>No</td>\n",
       "      <td>2</td>\n",
       "      <td>21400000.0</td>\n",
       "    </tr>\n",
       "    <tr>\n",
       "      <th>1</th>\n",
       "      <td>Design</td>\n",
       "      <td>Automotive &amp; Sports</td>\n",
       "      <td>/organization/tonbo-imaging</td>\n",
       "      <td>venture</td>\n",
       "      <td>6400000.0</td>\n",
       "      <td>Tonbo Imaging</td>\n",
       "      <td>IND</td>\n",
       "      <td>No</td>\n",
       "      <td>2</td>\n",
       "      <td>21400000.0</td>\n",
       "    </tr>\n",
       "    <tr>\n",
       "      <th>2</th>\n",
       "      <td>Biotechnology</td>\n",
       "      <td>Cleantech / Semiconductors</td>\n",
       "      <td>/organization/avesthagen</td>\n",
       "      <td>venture</td>\n",
       "      <td>5530000.0</td>\n",
       "      <td>Avesthagen</td>\n",
       "      <td>IND</td>\n",
       "      <td>No</td>\n",
       "      <td>14</td>\n",
       "      <td>105180000.0</td>\n",
       "    </tr>\n",
       "  </tbody>\n",
       "</table>\n",
       "</div>"
      ],
      "text/plain": [
       "   category_list                 main_sector  \\\n",
       "0     Automotive         Automotive & Sports   \n",
       "1         Design         Automotive & Sports   \n",
       "2  Biotechnology  Cleantech / Semiconductors   \n",
       "\n",
       "                               company_permalink funding_round_type  \\\n",
       "0  /organization/incredible-technologies-pvt-ltd            venture   \n",
       "1                    /organization/tonbo-imaging            venture   \n",
       "2                       /organization/avesthagen            venture   \n",
       "\n",
       "   raised_amount_usd                             name country_code  \\\n",
       "0         15000000.0  Incredible Technologies (CredR)          IND   \n",
       "1          6400000.0                    Tonbo Imaging          IND   \n",
       "2          5530000.0                       Avesthagen          IND   \n",
       "\n",
       "  Official_lang  total_no_of_investments  total_amount_invested  \n",
       "0            No                        2             21400000.0  \n",
       "1            No                        2             21400000.0  \n",
       "2            No                       14            105180000.0  "
      ]
     },
     "execution_count": 76,
     "metadata": {},
     "output_type": "execute_result"
    }
   ],
   "source": [
    "D3.head(3)"
   ]
  },
  {
   "cell_type": "markdown",
   "metadata": {},
   "source": [
    "# Total number of Investments (count) (USA)"
   ]
  },
  {
   "cell_type": "code",
   "execution_count": 77,
   "metadata": {},
   "outputs": [
    {
     "data": {
      "text/plain": [
       "total_no_of_investments    6139\n",
       "dtype: int64"
      ]
     },
     "execution_count": 77,
     "metadata": {},
     "output_type": "execute_result"
    }
   ],
   "source": [
    "d.sum()"
   ]
  },
  {
   "cell_type": "markdown",
   "metadata": {},
   "source": [
    "# Total amount of investment (USD) (USA)"
   ]
  },
  {
   "cell_type": "code",
   "execution_count": 78,
   "metadata": {},
   "outputs": [
    {
     "data": {
      "text/plain": [
       "total_amount_invested    18506811462.0015955987578.005405749916.0047705...\n",
       "dtype: object"
      ]
     },
     "execution_count": 78,
     "metadata": {},
     "output_type": "execute_result"
    }
   ],
   "source": [
    "s.sum()"
   ]
  },
  {
   "cell_type": "markdown",
   "metadata": {},
   "source": [
    "# Total number of Investments (count) (GBR)"
   ]
  },
  {
   "cell_type": "code",
   "execution_count": 79,
   "metadata": {},
   "outputs": [
    {
     "data": {
      "text/plain": [
       "total_no_of_investments    342\n",
       "dtype: int64"
      ]
     },
     "execution_count": 79,
     "metadata": {},
     "output_type": "execute_result"
    }
   ],
   "source": [
    "d2.sum()"
   ]
  },
  {
   "cell_type": "markdown",
   "metadata": {},
   "source": [
    "# Total amount of investment (USD) (GBR)"
   ]
  },
  {
   "cell_type": "code",
   "execution_count": 80,
   "metadata": {},
   "outputs": [
    {
     "data": {
      "text/plain": [
       "total_amount_invested    3012928480.00\n",
       "dtype: object"
      ]
     },
     "execution_count": 80,
     "metadata": {},
     "output_type": "execute_result"
    }
   ],
   "source": [
    "s2.sum().apply(lambda x:\"{:.2f}\".format(x))"
   ]
  },
  {
   "cell_type": "markdown",
   "metadata": {},
   "source": [
    "# Total number of Investments (count) (IND)"
   ]
  },
  {
   "cell_type": "code",
   "execution_count": 81,
   "metadata": {},
   "outputs": [
    {
     "data": {
      "text/plain": [
       "total_no_of_investments    186\n",
       "dtype: int64"
      ]
     },
     "execution_count": 81,
     "metadata": {},
     "output_type": "execute_result"
    }
   ],
   "source": [
    "d3.sum()"
   ]
  },
  {
   "cell_type": "markdown",
   "metadata": {},
   "source": [
    "# Total amount of investment (USD) (IND)"
   ]
  },
  {
   "cell_type": "code",
   "execution_count": 82,
   "metadata": {},
   "outputs": [
    {
     "data": {
      "text/plain": [
       "total_amount_invested    1629864327.00\n",
       "dtype: object"
      ]
     },
     "execution_count": 82,
     "metadata": {},
     "output_type": "execute_result"
    }
   ],
   "source": [
    "(s3.sum()).apply(lambda x:\"{:.2f}\".format(x))"
   ]
  },
  {
   "cell_type": "markdown",
   "metadata": {},
   "source": [
    "# Highest Investment recorded by a company in Top Sector(USA)"
   ]
  },
  {
   "cell_type": "code",
   "execution_count": 83,
   "metadata": {},
   "outputs": [
    {
     "data": {
      "text/html": [
       "<div>\n",
       "<style scoped>\n",
       "    .dataframe tbody tr th:only-of-type {\n",
       "        vertical-align: middle;\n",
       "    }\n",
       "\n",
       "    .dataframe tbody tr th {\n",
       "        vertical-align: top;\n",
       "    }\n",
       "\n",
       "    .dataframe thead th {\n",
       "        text-align: right;\n",
       "    }\n",
       "</style>\n",
       "<table border=\"1\" class=\"dataframe\">\n",
       "  <thead>\n",
       "    <tr style=\"text-align: right;\">\n",
       "      <th></th>\n",
       "      <th>raised_amount_usd</th>\n",
       "      <th>total_no_of_investments</th>\n",
       "    </tr>\n",
       "    <tr>\n",
       "      <th>name</th>\n",
       "      <th></th>\n",
       "      <th></th>\n",
       "    </tr>\n",
       "  </thead>\n",
       "  <tbody>\n",
       "    <tr>\n",
       "      <th>Virtustream</th>\n",
       "      <td>64300000.0</td>\n",
       "      <td>12426</td>\n",
       "    </tr>\n",
       "  </tbody>\n",
       "</table>\n",
       "</div>"
      ],
      "text/plain": [
       "             raised_amount_usd  total_no_of_investments\n",
       "name                                                   \n",
       "Virtustream         64300000.0                    12426"
      ]
     },
     "execution_count": 83,
     "metadata": {},
     "output_type": "execute_result"
    }
   ],
   "source": [
    "D1[D1['main_sector']==\"Others\"].groupby(by=\"name\").sum().sort_values(by=\"raised_amount_usd\",ascending=False).head(1)"
   ]
  },
  {
   "cell_type": "markdown",
   "metadata": {},
   "source": [
    "# Highest Investment recorded by a company in Top Sector(GBR)"
   ]
  },
  {
   "cell_type": "code",
   "execution_count": 84,
   "metadata": {},
   "outputs": [
    {
     "data": {
      "text/html": [
       "<div>\n",
       "<style scoped>\n",
       "    .dataframe tbody tr th:only-of-type {\n",
       "        vertical-align: middle;\n",
       "    }\n",
       "\n",
       "    .dataframe tbody tr th {\n",
       "        vertical-align: top;\n",
       "    }\n",
       "\n",
       "    .dataframe thead th {\n",
       "        text-align: right;\n",
       "    }\n",
       "</style>\n",
       "<table border=\"1\" class=\"dataframe\">\n",
       "  <thead>\n",
       "    <tr style=\"text-align: right;\">\n",
       "      <th></th>\n",
       "      <th>raised_amount_usd</th>\n",
       "      <th>total_no_of_investments</th>\n",
       "      <th>total_amount_invested</th>\n",
       "    </tr>\n",
       "    <tr>\n",
       "      <th>name</th>\n",
       "      <th></th>\n",
       "      <th></th>\n",
       "      <th></th>\n",
       "    </tr>\n",
       "  </thead>\n",
       "  <tbody>\n",
       "    <tr>\n",
       "      <th>EUSA Pharma</th>\n",
       "      <td>35600000.0</td>\n",
       "      <td>321</td>\n",
       "      <td>2.828488e+09</td>\n",
       "    </tr>\n",
       "  </tbody>\n",
       "</table>\n",
       "</div>"
      ],
      "text/plain": [
       "             raised_amount_usd  total_no_of_investments  total_amount_invested\n",
       "name                                                                          \n",
       "EUSA Pharma         35600000.0                      321           2.828488e+09"
      ]
     },
     "execution_count": 84,
     "metadata": {},
     "output_type": "execute_result"
    }
   ],
   "source": [
    "D2[D2['main_sector']==\"Cleantech / Semiconductors\"].groupby(by=\"name\").sum().sort_values(by=\"raised_amount_usd\",ascending=False).head(1)"
   ]
  },
  {
   "cell_type": "markdown",
   "metadata": {},
   "source": [
    "# Highest Investment recorded by a company in Top Sector(IND)"
   ]
  },
  {
   "cell_type": "code",
   "execution_count": 85,
   "metadata": {},
   "outputs": [
    {
     "data": {
      "text/html": [
       "<div>\n",
       "<style scoped>\n",
       "    .dataframe tbody tr th:only-of-type {\n",
       "        vertical-align: middle;\n",
       "    }\n",
       "\n",
       "    .dataframe tbody tr th {\n",
       "        vertical-align: top;\n",
       "    }\n",
       "\n",
       "    .dataframe thead th {\n",
       "        text-align: right;\n",
       "    }\n",
       "</style>\n",
       "<table border=\"1\" class=\"dataframe\">\n",
       "  <thead>\n",
       "    <tr style=\"text-align: right;\">\n",
       "      <th></th>\n",
       "      <th>raised_amount_usd</th>\n",
       "      <th>total_no_of_investments</th>\n",
       "      <th>total_amount_invested</th>\n",
       "    </tr>\n",
       "    <tr>\n",
       "      <th>name</th>\n",
       "      <th></th>\n",
       "      <th></th>\n",
       "      <th></th>\n",
       "    </tr>\n",
       "  </thead>\n",
       "  <tbody>\n",
       "    <tr>\n",
       "      <th>FirstCry.com</th>\n",
       "      <td>39000000.0</td>\n",
       "      <td>222</td>\n",
       "      <td>2.025509e+09</td>\n",
       "    </tr>\n",
       "  </tbody>\n",
       "</table>\n",
       "</div>"
      ],
      "text/plain": [
       "              raised_amount_usd  total_no_of_investments  \\\n",
       "name                                                       \n",
       "FirstCry.com         39000000.0                      222   \n",
       "\n",
       "              total_amount_invested  \n",
       "name                                 \n",
       "FirstCry.com           2.025509e+09  "
      ]
     },
     "execution_count": 85,
     "metadata": {},
     "output_type": "execute_result"
    }
   ],
   "source": [
    "D3[D3['main_sector']==\"Others\"].groupby(by=\"name\").sum().sort_values(by=\"raised_amount_usd\",ascending=False).head(1)"
   ]
  },
  {
   "cell_type": "markdown",
   "metadata": {},
   "source": [
    "# Second Highest Investment recorded by a company in Top Sector(USA)"
   ]
  },
  {
   "cell_type": "code",
   "execution_count": 86,
   "metadata": {},
   "outputs": [
    {
     "data": {
      "text/html": [
       "<div>\n",
       "<style scoped>\n",
       "    .dataframe tbody tr th:only-of-type {\n",
       "        vertical-align: middle;\n",
       "    }\n",
       "\n",
       "    .dataframe tbody tr th {\n",
       "        vertical-align: top;\n",
       "    }\n",
       "\n",
       "    .dataframe thead th {\n",
       "        text-align: right;\n",
       "    }\n",
       "</style>\n",
       "<table border=\"1\" class=\"dataframe\">\n",
       "  <thead>\n",
       "    <tr style=\"text-align: right;\">\n",
       "      <th></th>\n",
       "      <th>raised_amount_usd</th>\n",
       "      <th>total_no_of_investments</th>\n",
       "    </tr>\n",
       "    <tr>\n",
       "      <th>name</th>\n",
       "      <th></th>\n",
       "      <th></th>\n",
       "    </tr>\n",
       "  </thead>\n",
       "  <tbody>\n",
       "    <tr>\n",
       "      <th>Tigo Energy</th>\n",
       "      <td>68739496.0</td>\n",
       "      <td>13904</td>\n",
       "    </tr>\n",
       "  </tbody>\n",
       "</table>\n",
       "</div>"
      ],
      "text/plain": [
       "             raised_amount_usd  total_no_of_investments\n",
       "name                                                   \n",
       "Tigo Energy         68739496.0                    13904"
      ]
     },
     "execution_count": 86,
     "metadata": {},
     "output_type": "execute_result"
    }
   ],
   "source": [
    "D1[D1['main_sector']==\"Cleantech / Semiconductors\"].groupby(by=\"name\").sum().sort_values(by=\"raised_amount_usd\",ascending=False).head(1)"
   ]
  },
  {
   "cell_type": "markdown",
   "metadata": {},
   "source": [
    "# Second Highest Investment recorded by a company in Top Sector(GBR)"
   ]
  },
  {
   "cell_type": "code",
   "execution_count": 87,
   "metadata": {},
   "outputs": [
    {
     "data": {
      "text/html": [
       "<div>\n",
       "<style scoped>\n",
       "    .dataframe tbody tr th:only-of-type {\n",
       "        vertical-align: middle;\n",
       "    }\n",
       "\n",
       "    .dataframe tbody tr th {\n",
       "        vertical-align: top;\n",
       "    }\n",
       "\n",
       "    .dataframe thead th {\n",
       "        text-align: right;\n",
       "    }\n",
       "</style>\n",
       "<table border=\"1\" class=\"dataframe\">\n",
       "  <thead>\n",
       "    <tr style=\"text-align: right;\">\n",
       "      <th></th>\n",
       "      <th>raised_amount_usd</th>\n",
       "      <th>total_no_of_investments</th>\n",
       "      <th>total_amount_invested</th>\n",
       "    </tr>\n",
       "    <tr>\n",
       "      <th>name</th>\n",
       "      <th></th>\n",
       "      <th></th>\n",
       "      <th></th>\n",
       "    </tr>\n",
       "  </thead>\n",
       "  <tbody>\n",
       "    <tr>\n",
       "      <th>Electric Cloud</th>\n",
       "      <td>37000000.0</td>\n",
       "      <td>424</td>\n",
       "      <td>3.724822e+09</td>\n",
       "    </tr>\n",
       "  </tbody>\n",
       "</table>\n",
       "</div>"
      ],
      "text/plain": [
       "                raised_amount_usd  total_no_of_investments  \\\n",
       "name                                                         \n",
       "Electric Cloud         37000000.0                      424   \n",
       "\n",
       "                total_amount_invested  \n",
       "name                                   \n",
       "Electric Cloud           3.724822e+09  "
      ]
     },
     "execution_count": 87,
     "metadata": {},
     "output_type": "execute_result"
    }
   ],
   "source": [
    "D2[D2['main_sector']==\"Others\"].groupby(by=\"name\").sum().sort_values(by=\"raised_amount_usd\",ascending=False).head(1)"
   ]
  },
  {
   "cell_type": "markdown",
   "metadata": {},
   "source": [
    "# Second Highest Investment recorded by a company in Top Sector(IND)"
   ]
  },
  {
   "cell_type": "code",
   "execution_count": 88,
   "metadata": {},
   "outputs": [
    {
     "data": {
      "text/html": [
       "<div>\n",
       "<style scoped>\n",
       "    .dataframe tbody tr th:only-of-type {\n",
       "        vertical-align: middle;\n",
       "    }\n",
       "\n",
       "    .dataframe tbody tr th {\n",
       "        vertical-align: top;\n",
       "    }\n",
       "\n",
       "    .dataframe thead th {\n",
       "        text-align: right;\n",
       "    }\n",
       "</style>\n",
       "<table border=\"1\" class=\"dataframe\">\n",
       "  <thead>\n",
       "    <tr style=\"text-align: right;\">\n",
       "      <th></th>\n",
       "      <th>raised_amount_usd</th>\n",
       "      <th>total_no_of_investments</th>\n",
       "      <th>total_amount_invested</th>\n",
       "    </tr>\n",
       "    <tr>\n",
       "      <th>name</th>\n",
       "      <th></th>\n",
       "      <th></th>\n",
       "      <th></th>\n",
       "    </tr>\n",
       "  </thead>\n",
       "  <tbody>\n",
       "    <tr>\n",
       "      <th>GupShup</th>\n",
       "      <td>33000000.0</td>\n",
       "      <td>93</td>\n",
       "      <td>801356310.0</td>\n",
       "    </tr>\n",
       "  </tbody>\n",
       "</table>\n",
       "</div>"
      ],
      "text/plain": [
       "         raised_amount_usd  total_no_of_investments  total_amount_invested\n",
       "name                                                                      \n",
       "GupShup         33000000.0                       93            801356310.0"
      ]
     },
     "execution_count": 88,
     "metadata": {},
     "output_type": "execute_result"
    }
   ],
   "source": [
    "D3[D3['main_sector']==\"News, Search and Messaging\"].groupby(by=\"name\").sum().sort_values(by=\"raised_amount_usd\",ascending=False).head(1)"
   ]
  },
  {
   "cell_type": "markdown",
   "metadata": {},
   "source": [
    "# PLOTTING"
   ]
  },
  {
   "cell_type": "code",
   "execution_count": 89,
   "metadata": {
    "scrolled": false
   },
   "outputs": [
    {
     "data": {
      "text/html": [
       "<div>\n",
       "<style scoped>\n",
       "    .dataframe tbody tr th:only-of-type {\n",
       "        vertical-align: middle;\n",
       "    }\n",
       "\n",
       "    .dataframe tbody tr th {\n",
       "        vertical-align: top;\n",
       "    }\n",
       "\n",
       "    .dataframe thead th {\n",
       "        text-align: right;\n",
       "    }\n",
       "</style>\n",
       "<table border=\"1\" class=\"dataframe\">\n",
       "  <thead>\n",
       "    <tr style=\"text-align: right;\">\n",
       "      <th></th>\n",
       "      <th>company_permalink</th>\n",
       "      <th>funding_round_type</th>\n",
       "      <th>raised_amount_usd</th>\n",
       "      <th>name</th>\n",
       "      <th>category_list</th>\n",
       "      <th>country_code</th>\n",
       "    </tr>\n",
       "  </thead>\n",
       "  <tbody>\n",
       "    <tr>\n",
       "      <th>0</th>\n",
       "      <td>/organization/-fame</td>\n",
       "      <td>venture</td>\n",
       "      <td>10000000.0</td>\n",
       "      <td>#fame</td>\n",
       "      <td>Media</td>\n",
       "      <td>IND</td>\n",
       "    </tr>\n",
       "    <tr>\n",
       "      <th>1</th>\n",
       "      <td>/organization/-qounter</td>\n",
       "      <td>seed</td>\n",
       "      <td>700000.0</td>\n",
       "      <td>:Qounter</td>\n",
       "      <td>Application Platforms|Real Time|Social Network...</td>\n",
       "      <td>USA</td>\n",
       "    </tr>\n",
       "    <tr>\n",
       "      <th>2</th>\n",
       "      <td>/organization/0-6-com</td>\n",
       "      <td>venture</td>\n",
       "      <td>2000000.0</td>\n",
       "      <td>0-6.com</td>\n",
       "      <td>Curated Web</td>\n",
       "      <td>CHN</td>\n",
       "    </tr>\n",
       "    <tr>\n",
       "      <th>3</th>\n",
       "      <td>/organization/01games-technology</td>\n",
       "      <td>undisclosed</td>\n",
       "      <td>41250.0</td>\n",
       "      <td>01Games Technology</td>\n",
       "      <td>Games</td>\n",
       "      <td>HKG</td>\n",
       "    </tr>\n",
       "    <tr>\n",
       "      <th>4</th>\n",
       "      <td>/organization/0ndine-biomedical-inc</td>\n",
       "      <td>seed</td>\n",
       "      <td>43360.0</td>\n",
       "      <td>Ondine Biomedical Inc.</td>\n",
       "      <td>Biotechnology</td>\n",
       "      <td>CAN</td>\n",
       "    </tr>\n",
       "  </tbody>\n",
       "</table>\n",
       "</div>"
      ],
      "text/plain": [
       "                     company_permalink funding_round_type  raised_amount_usd  \\\n",
       "0                  /organization/-fame            venture         10000000.0   \n",
       "1               /organization/-qounter               seed           700000.0   \n",
       "2                /organization/0-6-com            venture          2000000.0   \n",
       "3     /organization/01games-technology        undisclosed            41250.0   \n",
       "4  /organization/0ndine-biomedical-inc               seed            43360.0   \n",
       "\n",
       "                     name                                      category_list  \\\n",
       "0                   #fame                                              Media   \n",
       "1                :Qounter  Application Platforms|Real Time|Social Network...   \n",
       "2                 0-6.com                                        Curated Web   \n",
       "3      01Games Technology                                              Games   \n",
       "4  Ondine Biomedical Inc.                                      Biotechnology   \n",
       "\n",
       "  country_code  \n",
       "0          IND  \n",
       "1          USA  \n",
       "2          CHN  \n",
       "3          HKG  \n",
       "4          CAN  "
      ]
     },
     "execution_count": 89,
     "metadata": {},
     "output_type": "execute_result"
    }
   ],
   "source": [
    "m=pd.read_csv(\"clean_data.csv\")\n",
    "m.head()"
   ]
  },
  {
   "cell_type": "markdown",
   "metadata": {},
   "source": [
    "# PLOT 1"
   ]
  },
  {
   "cell_type": "code",
   "execution_count": 90,
   "metadata": {},
   "outputs": [],
   "source": [
    "lst=[\"venture\",\"seed\",\"private_equity\"]\n",
    "m=m.loc[(m[\"funding_round_type\"].isin(lst))]"
   ]
  },
  {
   "cell_type": "code",
   "execution_count": 91,
   "metadata": {
    "scrolled": true
   },
   "outputs": [
    {
     "data": {
      "text/plain": [
       "Text(0.5, 1.0, 'Average Amount Of investment')"
      ]
     },
     "execution_count": 91,
     "metadata": {},
     "output_type": "execute_result"
    },
    {
     "data": {
      "image/png": "[encoded data removed]",
      "text/plain": [
       "<Figure size 720x432 with 2 Axes>"
      ]
     },
     "metadata": {
      "needs_background": "light"
     },
     "output_type": "display_data"
    }
   ],
   "source": [
    "plt.figure(figsize=(10,6))\n",
    "plt.subplot(121)\n",
    "plt.yscale(\"log\")\n",
    "sb.barplot(x=\"funding_round_type\",y=\"raised_amount_usd\",data=m,estimator=np.sum,ci=False)\n",
    "plt.title(\"Total Amount Of Investment\")\n",
    "\n",
    "plt.subplot(122)\n",
    "plt.yscale(\"log\")\n",
    "sb.barplot(x=\"funding_round_type\",y=\"raised_amount_usd\",data=m,estimator=np.mean,ci=False) \n",
    "plt.title(\"Average Amount Of investment\")"
   ]
  },
  {
   "cell_type": "markdown",
   "metadata": {},
   "source": [
    "# PLOT 2"
   ]
  },
  {
   "cell_type": "code",
   "execution_count": 92,
   "metadata": {
    "scrolled": true
   },
   "outputs": [
    {
     "data": {
      "text/plain": [
       "<matplotlib.axes._subplots.AxesSubplot at 0x29fafeb4b48>"
      ]
     },
     "execution_count": 92,
     "metadata": {},
     "output_type": "execute_result"
    },
    {
     "data": {
      "image/png": "[encoded data removed]",
      "text/plain": [
       "<Figure size 1080x432 with 1 Axes>"
      ]
     },
     "metadata": {
      "needs_background": "light"
     },
     "output_type": "display_data"
    }
   ],
   "source": [
    "plt.figure(figsize=(15,6))\n",
    "plt.xticks(rotation=90)\n",
    "plt.yscale(\"log\")\n",
    "t=top9.head(9)\n",
    "sb.barplot(x=t.index,y=\"raised_amount_usd\",data=t)"
   ]
  },
  {
   "cell_type": "markdown",
   "metadata": {},
   "source": [
    "# PLOT 3"
   ]
  },
  {
   "cell_type": "code",
   "execution_count": 93,
   "metadata": {},
   "outputs": [
    {
     "data": {
      "text/plain": [
       "Text(0.5, 1.0, 'Country 3 (IND)')"
      ]
     },
     "execution_count": 93,
     "metadata": {},
     "output_type": "execute_result"
    },
    {
     "data": {
      "image/png": "[encoded data removed]",
      "text/plain": [
       "<Figure size 1080x432 with 3 Axes>"
      ]
     },
     "metadata": {
      "needs_background": "light"
     },
     "output_type": "display_data"
    }
   ],
   "source": [
    "plt.figure(figsize=(15,6))\n",
    "plt.subplot(131)\n",
    "a=d.head(3)\n",
    "plt.xticks(rotation=90)\n",
    "sb.barplot(x=a.index,y=\"total_no_of_investments\",data=a)\n",
    "plt.title(\"Country 1 (USA)\")\n",
    "\n",
    "plt.subplot(132)\n",
    "a2=d2.head(3)\n",
    "plt.xticks(rotation=90)\n",
    "sb.barplot(x=a2.index,y=\"total_no_of_investments\",data=a2)\n",
    "plt.title(\"Country 2 (GBR)\")\n",
    "\n",
    "plt.subplot(133)\n",
    "a3=d3.head(3)\n",
    "plt.xticks(rotation=90)\n",
    "sb.barplot(x=a3.index,y=\"total_no_of_investments\",data=a3)\n",
    "plt.title(\"Country 3 (IND)\")"
   ]
  }
 ],
 "metadata": {
  "kernelspec": {
   "display_name": "Python 3",
   "language": "python",
   "name": "python3"
  },
  "language_info": {
   "codemirror_mode": {
    "name": "ipython",
    "version": 3
   },
   "file_extension": ".py",
   "mimetype": "text/x-python",
   "name": "python",
   "nbconvert_exporter": "python",
   "pygments_lexer": "ipython3",
   "version": "3.7.6"
  }
 },
 "nbformat": 4,
 "nbformat_minor": 4
}
